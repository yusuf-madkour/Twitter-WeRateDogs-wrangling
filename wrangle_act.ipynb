{
 "cells": [
  {
   "cell_type": "markdown",
   "metadata": {
    "slideshow": {
     "slide_type": "slide"
    }
   },
   "source": [
    "# Gathering Data\n",
    "\n",
    "For this project, I will gather data from three different sources."
   ]
  },
  {
   "cell_type": "code",
   "execution_count": 1,
   "metadata": {},
   "outputs": [
    {
     "output_type": "display_data",
     "data": {
      "text/plain": "<IPython.core.display.Javascript object>",
      "application/javascript": "\n            setTimeout(function() {\n                var nbb_cell_id = 1;\n                var nbb_unformatted_code = \"# This extension formats all cells in the notebook using black\\n%load_ext nb_black\";\n                var nbb_formatted_code = \"# This extension formats all cells in the notebook using black\\n%load_ext nb_black\";\n                var nbb_cells = Jupyter.notebook.get_cells();\n                for (var i = 0; i < nbb_cells.length; ++i) {\n                    if (nbb_cells[i].input_prompt_number == nbb_cell_id) {\n                        if (nbb_cells[i].get_text() == nbb_unformatted_code) {\n                             nbb_cells[i].set_text(nbb_formatted_code);\n                        }\n                        break;\n                    }\n                }\n            }, 500);\n            "
     },
     "metadata": {}
    }
   ],
   "source": [
    "# This extension formats all cells in the notebook using black\n",
    "%load_ext nb_black"
   ]
  },
  {
   "cell_type": "markdown",
   "metadata": {
    "slideshow": {
     "slide_type": "slide"
    }
   },
   "source": [
    "## The first source\n",
    "The `twitter-archive-enhanced.csv` which was provided by *Udacity*.\n",
    "\n",
    "This file contains the twitter archive of the [WeRateDogs twitter account](https://twitter.com/dog_rates?ref_src=twsrc%5Egoogle%7Ctwcamp%5Eserp%7Ctwgr%5Eauthor) which is the \"only source for professional dog ratings\" as they describe themselves on their twitter account.\n",
    "\n",
    "I downloaded this file manually and added it to the folder of the project under its original name."
   ]
  },
  {
   "cell_type": "markdown",
   "metadata": {
    "slideshow": {
     "slide_type": "subslide"
    }
   },
   "source": [
    "![](./Slides/Manual_Download_Proof.png)"
   ]
  },
  {
   "cell_type": "markdown",
   "metadata": {},
   "source": [
    "##### Storing downloaded data into a pandas DataFrame"
   ]
  },
  {
   "cell_type": "code",
   "execution_count": 2,
   "metadata": {},
   "outputs": [
    {
     "output_type": "display_data",
     "data": {
      "text/plain": "<IPython.core.display.Javascript object>",
      "application/javascript": "\n            setTimeout(function() {\n                var nbb_cell_id = 2;\n                var nbb_unformatted_code = \"import pandas as pd\\n\\ntweet_archive_df = pd.read_csv(\\\"twitter-archive-enhanced.csv\\\")\";\n                var nbb_formatted_code = \"import pandas as pd\\n\\ntweet_archive_df = pd.read_csv(\\\"twitter-archive-enhanced.csv\\\")\";\n                var nbb_cells = Jupyter.notebook.get_cells();\n                for (var i = 0; i < nbb_cells.length; ++i) {\n                    if (nbb_cells[i].input_prompt_number == nbb_cell_id) {\n                        if (nbb_cells[i].get_text() == nbb_unformatted_code) {\n                             nbb_cells[i].set_text(nbb_formatted_code);\n                        }\n                        break;\n                    }\n                }\n            }, 500);\n            "
     },
     "metadata": {}
    }
   ],
   "source": [
    "import pandas as pd\n",
    "\n",
    "tweet_archive_df = pd.read_csv(\"twitter-archive-enhanced.csv\")"
   ]
  },
  {
   "cell_type": "markdown",
   "metadata": {
    "slideshow": {
     "slide_type": "slide"
    }
   },
   "source": [
    "## The second source\n",
    "\n",
    "The `image_predictions.tsv` which is hosted on *Udacity* servers. This file contains the tweet image predictions, i.e., what breed of dog (or other object, animal, etc.) is present in each tweet according to a neural network."
   ]
  },
  {
   "cell_type": "markdown",
   "metadata": {},
   "source": [
    "##### Downloading the file programmatically using *requests* Python module."
   ]
  },
  {
   "cell_type": "code",
   "execution_count": 3,
   "metadata": {
    "slideshow": {
     "slide_type": "subslide"
    }
   },
   "outputs": [
    {
     "output_type": "display_data",
     "data": {
      "text/plain": "<IPython.core.display.Javascript object>",
      "application/javascript": "\n            setTimeout(function() {\n                var nbb_cell_id = 3;\n                var nbb_unformatted_code = \"import requests\\n\\nurl = \\\"https://d17h27t6h515a5.cloudfront.net/topher/2017/August/599fd2ad_image-predictions/image-predictions.tsv\\\"\\npredictions_file_name = url.rsplit(\\\"/\\\")[-1]\\n\\nresponse = requests.get(url)\\n\\nwith open(predictions_file_name, \\\"wb\\\") as saved_file:\\n    saved_file.write(response.content)\";\n                var nbb_formatted_code = \"import requests\\n\\nurl = \\\"https://d17h27t6h515a5.cloudfront.net/topher/2017/August/599fd2ad_image-predictions/image-predictions.tsv\\\"\\npredictions_file_name = url.rsplit(\\\"/\\\")[-1]\\n\\nresponse = requests.get(url)\\n\\nwith open(predictions_file_name, \\\"wb\\\") as saved_file:\\n    saved_file.write(response.content)\";\n                var nbb_cells = Jupyter.notebook.get_cells();\n                for (var i = 0; i < nbb_cells.length; ++i) {\n                    if (nbb_cells[i].input_prompt_number == nbb_cell_id) {\n                        if (nbb_cells[i].get_text() == nbb_unformatted_code) {\n                             nbb_cells[i].set_text(nbb_formatted_code);\n                        }\n                        break;\n                    }\n                }\n            }, 500);\n            "
     },
     "metadata": {}
    }
   ],
   "source": [
    "import requests\n",
    "\n",
    "url = \"https://d17h27t6h515a5.cloudfront.net/topher/2017/August/599fd2ad_image-predictions/image-predictions.tsv\"\n",
    "predictions_file_name = url.rsplit(\"/\")[-1]\n",
    "\n",
    "response = requests.get(url)\n",
    "\n",
    "with open(predictions_file_name, \"wb\") as saved_file:\n",
    "    saved_file.write(response.content)"
   ]
  },
  {
   "cell_type": "markdown",
   "metadata": {
    "slideshow": {
     "slide_type": "subslide"
    }
   },
   "source": [
    "![](./Slides/Programmatic_Download_Proof.png)"
   ]
  },
  {
   "cell_type": "markdown",
   "metadata": {},
   "source": [
    "##### Storing the collected data in a pandas DataFrame"
   ]
  },
  {
   "cell_type": "code",
   "execution_count": 4,
   "metadata": {
    "scrolled": false
   },
   "outputs": [
    {
     "output_type": "display_data",
     "data": {
      "text/plain": "<IPython.core.display.Javascript object>",
      "application/javascript": "\n            setTimeout(function() {\n                var nbb_cell_id = 4;\n                var nbb_unformatted_code = \"img_pred_df = pd.read_csv(predictions_file_name, sep=\\\"\\\\t\\\")\";\n                var nbb_formatted_code = \"img_pred_df = pd.read_csv(predictions_file_name, sep=\\\"\\\\t\\\")\";\n                var nbb_cells = Jupyter.notebook.get_cells();\n                for (var i = 0; i < nbb_cells.length; ++i) {\n                    if (nbb_cells[i].input_prompt_number == nbb_cell_id) {\n                        if (nbb_cells[i].get_text() == nbb_unformatted_code) {\n                             nbb_cells[i].set_text(nbb_formatted_code);\n                        }\n                        break;\n                    }\n                }\n            }, 500);\n            "
     },
     "metadata": {}
    }
   ],
   "source": [
    "img_pred_df = pd.read_csv(predictions_file_name, sep=\"\\t\")"
   ]
  },
  {
   "cell_type": "markdown",
   "metadata": {
    "slideshow": {
     "slide_type": "slide"
    }
   },
   "source": [
    "## The third source\n",
    "\n",
    "Using the `tweet_id` column in the WeRateDogs Twitter archive `twitter-archive-enhanced.csv`, I will query the Twitter API for each tweet's JSON data using Python's *Tweepy* module and store each tweet's entire set of JSON data in a file called tweet_json.txt file. Each tweet's JSON data will be written to its own line."
   ]
  },
  {
   "cell_type": "markdown",
   "metadata": {},
   "source": [
    "##### Loading secret API keys from environment"
   ]
  },
  {
   "cell_type": "code",
   "execution_count": 5,
   "metadata": {},
   "outputs": [
    {
     "output_type": "display_data",
     "data": {
      "text/plain": "<IPython.core.display.Javascript object>",
      "application/javascript": "\n            setTimeout(function() {\n                var nbb_cell_id = 5;\n                var nbb_unformatted_code = \"import os\\nfrom dotenv import load_dotenv\\n\\nload_dotenv()\\n\\nCONSUMER_KEY = os.getenv(\\\"CONSUMER_KEY\\\")\\nCONSUMER_SECRET = os.getenv(\\\"CONSUMER_SECRET\\\")\\nACCESS_TOKEN = os.getenv(\\\"ACCESS_TOKEN\\\")\\nACCESS_SECRET = os.getenv(\\\"ACCESS_SECRET\\\")\";\n                var nbb_formatted_code = \"import os\\nfrom dotenv import load_dotenv\\n\\nload_dotenv()\\n\\nCONSUMER_KEY = os.getenv(\\\"CONSUMER_KEY\\\")\\nCONSUMER_SECRET = os.getenv(\\\"CONSUMER_SECRET\\\")\\nACCESS_TOKEN = os.getenv(\\\"ACCESS_TOKEN\\\")\\nACCESS_SECRET = os.getenv(\\\"ACCESS_SECRET\\\")\";\n                var nbb_cells = Jupyter.notebook.get_cells();\n                for (var i = 0; i < nbb_cells.length; ++i) {\n                    if (nbb_cells[i].input_prompt_number == nbb_cell_id) {\n                        if (nbb_cells[i].get_text() == nbb_unformatted_code) {\n                             nbb_cells[i].set_text(nbb_formatted_code);\n                        }\n                        break;\n                    }\n                }\n            }, 500);\n            "
     },
     "metadata": {}
    }
   ],
   "source": [
    "import os\n",
    "from dotenv import load_dotenv\n",
    "\n",
    "load_dotenv()\n",
    "\n",
    "CONSUMER_KEY = os.getenv(\"CONSUMER_KEY\")\n",
    "CONSUMER_SECRET = os.getenv(\"CONSUMER_SECRET\")\n",
    "ACCESS_TOKEN = os.getenv(\"ACCESS_TOKEN\")\n",
    "ACCESS_SECRET = os.getenv(\"ACCESS_SECRET\")"
   ]
  },
  {
   "cell_type": "markdown",
   "metadata": {},
   "source": [
    "##### Querying the Twitter API through Tweepy to collect tweet data"
   ]
  },
  {
   "cell_type": "code",
   "execution_count": 6,
   "metadata": {},
   "outputs": [
    {
     "output_type": "display_data",
     "data": {
      "text/plain": "<IPython.core.display.Javascript object>",
      "application/javascript": "\n            setTimeout(function() {\n                var nbb_cell_id = 6;\n                var nbb_unformatted_code = \"# import tweepy\\n# import json\\n\\n# # Authentication\\n# auth = tweepy.OAuthHandler(CONSUMER_KEY, CONSUMER_SECRET)\\n# auth.set_access_token(ACCESS_TOKEN, ACCESS_SECRET)\\n\\n# api = tweepy.API(auth, wait_on_rate_limit=True, wait_on_rate_limit_notify=True)\\n\\n# tweet_ids = pd.read_csv(\\\"twitter-archive-enhanced.csv\\\").tweet_id\\n\\n# with open(\\\"tweet-json.txt\\\", \\\"w\\\") as txt_file:\\n#     # For every tweet ID\\n#     for tweet_id in tweet_ids:\\n#         # Try to get the tweet information\\n#         try:\\n#             tweet = api.get_status(tweet_id, tweet_mode=\\\"extended\\\")\\n#         except tweepy.TweepError:\\n#             continue\\n\\n#         # If successful, write the json string to the tweet-json.txt file and append a new line\\n#         tweet_json_string = json.dumps(tweet)\\n#         txt_file.write(f\\\"{tweet_json_string}\\\\n\\\")\";\n                var nbb_formatted_code = \"# import tweepy\\n# import json\\n\\n# # Authentication\\n# auth = tweepy.OAuthHandler(CONSUMER_KEY, CONSUMER_SECRET)\\n# auth.set_access_token(ACCESS_TOKEN, ACCESS_SECRET)\\n\\n# api = tweepy.API(auth, wait_on_rate_limit=True, wait_on_rate_limit_notify=True)\\n\\n# tweet_ids = pd.read_csv(\\\"twitter-archive-enhanced.csv\\\").tweet_id\\n\\n# with open(\\\"tweet-json.txt\\\", \\\"w\\\") as txt_file:\\n#     # For every tweet ID\\n#     for tweet_id in tweet_ids:\\n#         # Try to get the tweet information\\n#         try:\\n#             tweet = api.get_status(tweet_id, tweet_mode=\\\"extended\\\")\\n#         except tweepy.TweepError:\\n#             continue\\n\\n#         # If successful, write the json string to the tweet-json.txt file and append a new line\\n#         tweet_json_string = json.dumps(tweet)\\n#         txt_file.write(f\\\"{tweet_json_string}\\\\n\\\")\";\n                var nbb_cells = Jupyter.notebook.get_cells();\n                for (var i = 0; i < nbb_cells.length; ++i) {\n                    if (nbb_cells[i].input_prompt_number == nbb_cell_id) {\n                        if (nbb_cells[i].get_text() == nbb_unformatted_code) {\n                             nbb_cells[i].set_text(nbb_formatted_code);\n                        }\n                        break;\n                    }\n                }\n            }, 500);\n            "
     },
     "metadata": {}
    }
   ],
   "source": [
    "# import tweepy\n",
    "# import json\n",
    "\n",
    "# # Authentication\n",
    "# auth = tweepy.OAuthHandler(CONSUMER_KEY, CONSUMER_SECRET)\n",
    "# auth.set_access_token(ACCESS_TOKEN, ACCESS_SECRET)\n",
    "\n",
    "# api = tweepy.API(auth, wait_on_rate_limit=True, wait_on_rate_limit_notify=True)\n",
    "\n",
    "# tweet_ids = pd.read_csv(\"twitter-archive-enhanced.csv\").tweet_id\n",
    "\n",
    "# with open(\"tweet-json.txt\", \"w\") as txt_file:\n",
    "#     # For every tweet ID\n",
    "#     for tweet_id in tweet_ids:\n",
    "#         # Try to get the tweet information\n",
    "#         try:\n",
    "#             tweet = api.get_status(tweet_id, tweet_mode=\"extended\")\n",
    "#         except tweepy.TweepError:\n",
    "#             continue\n",
    "\n",
    "#         # If successful, write the json string to the tweet-json.txt file and append a new line\n",
    "#         tweet_json_string = json.dumps(tweet)\n",
    "#         txt_file.write(f\"{tweet_json_string}\\n\")"
   ]
  },
  {
   "cell_type": "markdown",
   "metadata": {},
   "source": [
    "![](./Slides/API_Querying_proof.png)"
   ]
  },
  {
   "cell_type": "markdown",
   "metadata": {},
   "source": [
    "##### Saving collected tweets data into a pandas DataFrame"
   ]
  },
  {
   "cell_type": "code",
   "execution_count": 7,
   "metadata": {},
   "outputs": [
    {
     "output_type": "display_data",
     "data": {
      "text/plain": "<IPython.core.display.Javascript object>",
      "application/javascript": "\n            setTimeout(function() {\n                var nbb_cell_id = 7;\n                var nbb_unformatted_code = \"tweet_data_df = pd.DataFrame()\\nwith open(\\\"tweet-json.txt\\\", \\\"r\\\") as txt_file:\\n    tweet_data_df = pd.read_json(txt_file, lines=True)\";\n                var nbb_formatted_code = \"tweet_data_df = pd.DataFrame()\\nwith open(\\\"tweet-json.txt\\\", \\\"r\\\") as txt_file:\\n    tweet_data_df = pd.read_json(txt_file, lines=True)\";\n                var nbb_cells = Jupyter.notebook.get_cells();\n                for (var i = 0; i < nbb_cells.length; ++i) {\n                    if (nbb_cells[i].input_prompt_number == nbb_cell_id) {\n                        if (nbb_cells[i].get_text() == nbb_unformatted_code) {\n                             nbb_cells[i].set_text(nbb_formatted_code);\n                        }\n                        break;\n                    }\n                }\n            }, 500);\n            "
     },
     "metadata": {}
    }
   ],
   "source": [
    "tweet_data_df = pd.DataFrame()\n",
    "with open(\"tweet-json.txt\", \"r\") as txt_file:\n",
    "    tweet_data_df = pd.read_json(txt_file, lines=True)"
   ]
  },
  {
   "cell_type": "code",
   "execution_count": 8,
   "metadata": {},
   "outputs": [
    {
     "output_type": "execute_result",
     "data": {
      "text/plain": "                    created_at                  id              id_str  \\\n0    2017-08-01 16:23:56+00:00  892420643555336193  892420643555336192   \n1    2017-08-01 00:17:27+00:00  892177421306343426  892177421306343424   \n2    2017-07-31 00:18:03+00:00  891815181378084864  891815181378084864   \n3    2017-07-30 15:58:51+00:00  891689557279858688  891689557279858688   \n4    2017-07-29 16:00:24+00:00  891327558926688256  891327558926688256   \n...                        ...                 ...                 ...   \n2349 2015-11-16 00:24:50+00:00  666049248165822465  666049248165822464   \n2350 2015-11-16 00:04:52+00:00  666044226329800704  666044226329800704   \n2351 2015-11-15 23:21:54+00:00  666033412701032449  666033412701032448   \n2352 2015-11-15 23:05:30+00:00  666029285002620928  666029285002620928   \n2353 2015-11-15 22:32:08+00:00  666020888022790149  666020888022790144   \n\n                                              full_text  truncated  \\\n0     This is Phineas. He's a mystical boy. Only eve...      False   \n1     This is Tilly. She's just checking pup on you....      False   \n2     This is Archie. He is a rare Norwegian Pouncin...      False   \n3     This is Darla. She commenced a snooze mid meal...      False   \n4     This is Franklin. He would like you to stop ca...      False   \n...                                                 ...        ...   \n2349  Here we have a 1949 1st generation vulpix. Enj...      False   \n2350  This is a purebred Piers Morgan. Loves to Netf...      False   \n2351  Here is a very happy pup. Big fan of well-main...      False   \n2352  This is a western brown Mitsubishi terrier. Up...      False   \n2353  Here we have a Japanese Irish Setter. Lost eye...      False   \n\n     display_text_range                                           entities  \\\n0               [0, 85]  {'hashtags': [], 'symbols': [], 'user_mentions...   \n1              [0, 138]  {'hashtags': [], 'symbols': [], 'user_mentions...   \n2              [0, 121]  {'hashtags': [], 'symbols': [], 'user_mentions...   \n3               [0, 79]  {'hashtags': [], 'symbols': [], 'user_mentions...   \n4              [0, 138]  {'hashtags': [{'text': 'BarkWeek', 'indices': ...   \n...                 ...                                                ...   \n2349           [0, 120]  {'hashtags': [], 'symbols': [], 'user_mentions...   \n2350           [0, 137]  {'hashtags': [], 'symbols': [], 'user_mentions...   \n2351           [0, 130]  {'hashtags': [], 'symbols': [], 'user_mentions...   \n2352           [0, 139]  {'hashtags': [], 'symbols': [], 'user_mentions...   \n2353           [0, 131]  {'hashtags': [], 'symbols': [], 'user_mentions...   \n\n                                      extended_entities  \\\n0     {'media': [{'id': 892420639486877696, 'id_str'...   \n1     {'media': [{'id': 892177413194625024, 'id_str'...   \n2     {'media': [{'id': 891815175371796480, 'id_str'...   \n3     {'media': [{'id': 891689552724799489, 'id_str'...   \n4     {'media': [{'id': 891327551943041024, 'id_str'...   \n...                                                 ...   \n2349  {'media': [{'id': 666049244999131136, 'id_str'...   \n2350  {'media': [{'id': 666044217047650304, 'id_str'...   \n2351  {'media': [{'id': 666033409081393153, 'id_str'...   \n2352  {'media': [{'id': 666029276303482880, 'id_str'...   \n2353  {'media': [{'id': 666020881337073664, 'id_str'...   \n\n                                                 source  \\\n0     <a href=\"http://twitter.com/download/iphone\" r...   \n1     <a href=\"http://twitter.com/download/iphone\" r...   \n2     <a href=\"http://twitter.com/download/iphone\" r...   \n3     <a href=\"http://twitter.com/download/iphone\" r...   \n4     <a href=\"http://twitter.com/download/iphone\" r...   \n...                                                 ...   \n2349  <a href=\"http://twitter.com/download/iphone\" r...   \n2350  <a href=\"http://twitter.com/download/iphone\" r...   \n2351  <a href=\"http://twitter.com/download/iphone\" r...   \n2352  <a href=\"http://twitter.com/download/iphone\" r...   \n2353  <a href=\"http://twitter.com/download/iphone\" r...   \n\n      in_reply_to_status_id  ...  favorite_count  favorited  retweeted  \\\n0                       NaN  ...           39467      False      False   \n1                       NaN  ...           33819      False      False   \n2                       NaN  ...           25461      False      False   \n3                       NaN  ...           42908      False      False   \n4                       NaN  ...           41048      False      False   \n...                     ...  ...             ...        ...        ...   \n2349                    NaN  ...             111      False      False   \n2350                    NaN  ...             311      False      False   \n2351                    NaN  ...             128      False      False   \n2352                    NaN  ...             132      False      False   \n2353                    NaN  ...            2535      False      False   \n\n     possibly_sensitive possibly_sensitive_appealable  lang  retweeted_status  \\\n0                   0.0                           0.0    en               NaN   \n1                   0.0                           0.0    en               NaN   \n2                   0.0                           0.0    en               NaN   \n3                   0.0                           0.0    en               NaN   \n4                   0.0                           0.0    en               NaN   \n...                 ...                           ...   ...               ...   \n2349                0.0                           0.0    en               NaN   \n2350                0.0                           0.0    en               NaN   \n2351                0.0                           0.0    en               NaN   \n2352                0.0                           0.0    en               NaN   \n2353                0.0                           0.0    en               NaN   \n\n     quoted_status_id  quoted_status_id_str  quoted_status  \n0                 NaN                   NaN            NaN  \n1                 NaN                   NaN            NaN  \n2                 NaN                   NaN            NaN  \n3                 NaN                   NaN            NaN  \n4                 NaN                   NaN            NaN  \n...               ...                   ...            ...  \n2349              NaN                   NaN            NaN  \n2350              NaN                   NaN            NaN  \n2351              NaN                   NaN            NaN  \n2352              NaN                   NaN            NaN  \n2353              NaN                   NaN            NaN  \n\n[2354 rows x 31 columns]",
      "text/html": "<div>\n<style scoped>\n    .dataframe tbody tr th:only-of-type {\n        vertical-align: middle;\n    }\n\n    .dataframe tbody tr th {\n        vertical-align: top;\n    }\n\n    .dataframe thead th {\n        text-align: right;\n    }\n</style>\n<table border=\"1\" class=\"dataframe\">\n  <thead>\n    <tr style=\"text-align: right;\">\n      <th></th>\n      <th>created_at</th>\n      <th>id</th>\n      <th>id_str</th>\n      <th>full_text</th>\n      <th>truncated</th>\n      <th>display_text_range</th>\n      <th>entities</th>\n      <th>extended_entities</th>\n      <th>source</th>\n      <th>in_reply_to_status_id</th>\n      <th>...</th>\n      <th>favorite_count</th>\n      <th>favorited</th>\n      <th>retweeted</th>\n      <th>possibly_sensitive</th>\n      <th>possibly_sensitive_appealable</th>\n      <th>lang</th>\n      <th>retweeted_status</th>\n      <th>quoted_status_id</th>\n      <th>quoted_status_id_str</th>\n      <th>quoted_status</th>\n    </tr>\n  </thead>\n  <tbody>\n    <tr>\n      <th>0</th>\n      <td>2017-08-01 16:23:56+00:00</td>\n      <td>892420643555336193</td>\n      <td>892420643555336192</td>\n      <td>This is Phineas. He's a mystical boy. Only eve...</td>\n      <td>False</td>\n      <td>[0, 85]</td>\n      <td>{'hashtags': [], 'symbols': [], 'user_mentions...</td>\n      <td>{'media': [{'id': 892420639486877696, 'id_str'...</td>\n      <td>&lt;a href=\"http://twitter.com/download/iphone\" r...</td>\n      <td>NaN</td>\n      <td>...</td>\n      <td>39467</td>\n      <td>False</td>\n      <td>False</td>\n      <td>0.0</td>\n      <td>0.0</td>\n      <td>en</td>\n      <td>NaN</td>\n      <td>NaN</td>\n      <td>NaN</td>\n      <td>NaN</td>\n    </tr>\n    <tr>\n      <th>1</th>\n      <td>2017-08-01 00:17:27+00:00</td>\n      <td>892177421306343426</td>\n      <td>892177421306343424</td>\n      <td>This is Tilly. She's just checking pup on you....</td>\n      <td>False</td>\n      <td>[0, 138]</td>\n      <td>{'hashtags': [], 'symbols': [], 'user_mentions...</td>\n      <td>{'media': [{'id': 892177413194625024, 'id_str'...</td>\n      <td>&lt;a href=\"http://twitter.com/download/iphone\" r...</td>\n      <td>NaN</td>\n      <td>...</td>\n      <td>33819</td>\n      <td>False</td>\n      <td>False</td>\n      <td>0.0</td>\n      <td>0.0</td>\n      <td>en</td>\n      <td>NaN</td>\n      <td>NaN</td>\n      <td>NaN</td>\n      <td>NaN</td>\n    </tr>\n    <tr>\n      <th>2</th>\n      <td>2017-07-31 00:18:03+00:00</td>\n      <td>891815181378084864</td>\n      <td>891815181378084864</td>\n      <td>This is Archie. He is a rare Norwegian Pouncin...</td>\n      <td>False</td>\n      <td>[0, 121]</td>\n      <td>{'hashtags': [], 'symbols': [], 'user_mentions...</td>\n      <td>{'media': [{'id': 891815175371796480, 'id_str'...</td>\n      <td>&lt;a href=\"http://twitter.com/download/iphone\" r...</td>\n      <td>NaN</td>\n      <td>...</td>\n      <td>25461</td>\n      <td>False</td>\n      <td>False</td>\n      <td>0.0</td>\n      <td>0.0</td>\n      <td>en</td>\n      <td>NaN</td>\n      <td>NaN</td>\n      <td>NaN</td>\n      <td>NaN</td>\n    </tr>\n    <tr>\n      <th>3</th>\n      <td>2017-07-30 15:58:51+00:00</td>\n      <td>891689557279858688</td>\n      <td>891689557279858688</td>\n      <td>This is Darla. She commenced a snooze mid meal...</td>\n      <td>False</td>\n      <td>[0, 79]</td>\n      <td>{'hashtags': [], 'symbols': [], 'user_mentions...</td>\n      <td>{'media': [{'id': 891689552724799489, 'id_str'...</td>\n      <td>&lt;a href=\"http://twitter.com/download/iphone\" r...</td>\n      <td>NaN</td>\n      <td>...</td>\n      <td>42908</td>\n      <td>False</td>\n      <td>False</td>\n      <td>0.0</td>\n      <td>0.0</td>\n      <td>en</td>\n      <td>NaN</td>\n      <td>NaN</td>\n      <td>NaN</td>\n      <td>NaN</td>\n    </tr>\n    <tr>\n      <th>4</th>\n      <td>2017-07-29 16:00:24+00:00</td>\n      <td>891327558926688256</td>\n      <td>891327558926688256</td>\n      <td>This is Franklin. He would like you to stop ca...</td>\n      <td>False</td>\n      <td>[0, 138]</td>\n      <td>{'hashtags': [{'text': 'BarkWeek', 'indices': ...</td>\n      <td>{'media': [{'id': 891327551943041024, 'id_str'...</td>\n      <td>&lt;a href=\"http://twitter.com/download/iphone\" r...</td>\n      <td>NaN</td>\n      <td>...</td>\n      <td>41048</td>\n      <td>False</td>\n      <td>False</td>\n      <td>0.0</td>\n      <td>0.0</td>\n      <td>en</td>\n      <td>NaN</td>\n      <td>NaN</td>\n      <td>NaN</td>\n      <td>NaN</td>\n    </tr>\n    <tr>\n      <th>...</th>\n      <td>...</td>\n      <td>...</td>\n      <td>...</td>\n      <td>...</td>\n      <td>...</td>\n      <td>...</td>\n      <td>...</td>\n      <td>...</td>\n      <td>...</td>\n      <td>...</td>\n      <td>...</td>\n      <td>...</td>\n      <td>...</td>\n      <td>...</td>\n      <td>...</td>\n      <td>...</td>\n      <td>...</td>\n      <td>...</td>\n      <td>...</td>\n      <td>...</td>\n      <td>...</td>\n    </tr>\n    <tr>\n      <th>2349</th>\n      <td>2015-11-16 00:24:50+00:00</td>\n      <td>666049248165822465</td>\n      <td>666049248165822464</td>\n      <td>Here we have a 1949 1st generation vulpix. Enj...</td>\n      <td>False</td>\n      <td>[0, 120]</td>\n      <td>{'hashtags': [], 'symbols': [], 'user_mentions...</td>\n      <td>{'media': [{'id': 666049244999131136, 'id_str'...</td>\n      <td>&lt;a href=\"http://twitter.com/download/iphone\" r...</td>\n      <td>NaN</td>\n      <td>...</td>\n      <td>111</td>\n      <td>False</td>\n      <td>False</td>\n      <td>0.0</td>\n      <td>0.0</td>\n      <td>en</td>\n      <td>NaN</td>\n      <td>NaN</td>\n      <td>NaN</td>\n      <td>NaN</td>\n    </tr>\n    <tr>\n      <th>2350</th>\n      <td>2015-11-16 00:04:52+00:00</td>\n      <td>666044226329800704</td>\n      <td>666044226329800704</td>\n      <td>This is a purebred Piers Morgan. Loves to Netf...</td>\n      <td>False</td>\n      <td>[0, 137]</td>\n      <td>{'hashtags': [], 'symbols': [], 'user_mentions...</td>\n      <td>{'media': [{'id': 666044217047650304, 'id_str'...</td>\n      <td>&lt;a href=\"http://twitter.com/download/iphone\" r...</td>\n      <td>NaN</td>\n      <td>...</td>\n      <td>311</td>\n      <td>False</td>\n      <td>False</td>\n      <td>0.0</td>\n      <td>0.0</td>\n      <td>en</td>\n      <td>NaN</td>\n      <td>NaN</td>\n      <td>NaN</td>\n      <td>NaN</td>\n    </tr>\n    <tr>\n      <th>2351</th>\n      <td>2015-11-15 23:21:54+00:00</td>\n      <td>666033412701032449</td>\n      <td>666033412701032448</td>\n      <td>Here is a very happy pup. Big fan of well-main...</td>\n      <td>False</td>\n      <td>[0, 130]</td>\n      <td>{'hashtags': [], 'symbols': [], 'user_mentions...</td>\n      <td>{'media': [{'id': 666033409081393153, 'id_str'...</td>\n      <td>&lt;a href=\"http://twitter.com/download/iphone\" r...</td>\n      <td>NaN</td>\n      <td>...</td>\n      <td>128</td>\n      <td>False</td>\n      <td>False</td>\n      <td>0.0</td>\n      <td>0.0</td>\n      <td>en</td>\n      <td>NaN</td>\n      <td>NaN</td>\n      <td>NaN</td>\n      <td>NaN</td>\n    </tr>\n    <tr>\n      <th>2352</th>\n      <td>2015-11-15 23:05:30+00:00</td>\n      <td>666029285002620928</td>\n      <td>666029285002620928</td>\n      <td>This is a western brown Mitsubishi terrier. Up...</td>\n      <td>False</td>\n      <td>[0, 139]</td>\n      <td>{'hashtags': [], 'symbols': [], 'user_mentions...</td>\n      <td>{'media': [{'id': 666029276303482880, 'id_str'...</td>\n      <td>&lt;a href=\"http://twitter.com/download/iphone\" r...</td>\n      <td>NaN</td>\n      <td>...</td>\n      <td>132</td>\n      <td>False</td>\n      <td>False</td>\n      <td>0.0</td>\n      <td>0.0</td>\n      <td>en</td>\n      <td>NaN</td>\n      <td>NaN</td>\n      <td>NaN</td>\n      <td>NaN</td>\n    </tr>\n    <tr>\n      <th>2353</th>\n      <td>2015-11-15 22:32:08+00:00</td>\n      <td>666020888022790149</td>\n      <td>666020888022790144</td>\n      <td>Here we have a Japanese Irish Setter. Lost eye...</td>\n      <td>False</td>\n      <td>[0, 131]</td>\n      <td>{'hashtags': [], 'symbols': [], 'user_mentions...</td>\n      <td>{'media': [{'id': 666020881337073664, 'id_str'...</td>\n      <td>&lt;a href=\"http://twitter.com/download/iphone\" r...</td>\n      <td>NaN</td>\n      <td>...</td>\n      <td>2535</td>\n      <td>False</td>\n      <td>False</td>\n      <td>0.0</td>\n      <td>0.0</td>\n      <td>en</td>\n      <td>NaN</td>\n      <td>NaN</td>\n      <td>NaN</td>\n      <td>NaN</td>\n    </tr>\n  </tbody>\n</table>\n<p>2354 rows × 31 columns</p>\n</div>"
     },
     "metadata": {},
     "execution_count": 8
    },
    {
     "output_type": "display_data",
     "data": {
      "text/plain": "<IPython.core.display.Javascript object>",
      "application/javascript": "\n            setTimeout(function() {\n                var nbb_cell_id = 8;\n                var nbb_unformatted_code = \"tweet_data_df\";\n                var nbb_formatted_code = \"tweet_data_df\";\n                var nbb_cells = Jupyter.notebook.get_cells();\n                for (var i = 0; i < nbb_cells.length; ++i) {\n                    if (nbb_cells[i].input_prompt_number == nbb_cell_id) {\n                        if (nbb_cells[i].get_text() == nbb_unformatted_code) {\n                             nbb_cells[i].set_text(nbb_formatted_code);\n                        }\n                        break;\n                    }\n                }\n            }, 500);\n            "
     },
     "metadata": {}
    }
   ],
   "source": [
    "tweet_data_df"
   ]
  },
  {
   "cell_type": "markdown",
   "metadata": {},
   "source": [
    "## Wrap-up\n",
    "\n",
    "In this section, I gathered data from 3 different sources.\n",
    "\n",
    "- `twitter-archive-enhanced.csv` which is now loaded into **`tweet_archive_df`**\n",
    "- Downloaded `image_predictions.tsv` programmatically from Udacity's servers and loaded into **`img_pred_df`**\n",
    "- Queried the Twitter API through Tweepy Python module and loaded the data into **`tweet_data_df`**\n",
    "\n",
    "A random sample of the rows from the three tables is shown below"
   ]
  },
  {
   "cell_type": "code",
   "execution_count": 9,
   "metadata": {},
   "outputs": [
    {
     "output_type": "execute_result",
     "data": {
      "text/plain": "                tweet_id  in_reply_to_status_id  in_reply_to_user_id  \\\n1088  737826014890496000                    NaN                  NaN   \n2266  667530908589760512                    NaN                  NaN   \n\n                      timestamp  \\\n1088  2016-06-01 02:00:04 +0000   \n2266  2015-11-20 02:32:25 +0000   \n\n                                                 source  \\\n1088  <a href=\"http://twitter.com/download/iphone\" r...   \n2266  <a href=\"http://twitter.com\" rel=\"nofollow\">Tw...   \n\n                                                   text  retweeted_status_id  \\\n1088  This is Remy. He has some long ass ears (proba...                  NaN   \n2266  Meet Naphaniel. He doesn't necessarily enjoy h...                  NaN   \n\n      retweeted_status_user_id retweeted_status_timestamp  \\\n1088                       NaN                        NaN   \n2266                       NaN                        NaN   \n\n                                          expanded_urls  rating_numerator  \\\n1088  https://twitter.com/dog_rates/status/737826014...                10   \n2266  https://twitter.com/dog_rates/status/667530908...                10   \n\n      rating_denominator       name doggo floofer pupper puppo  \n1088                  10       Remy  None    None   None  None  \n2266                  10  Naphaniel  None    None   None  None  ",
      "text/html": "<div>\n<style scoped>\n    .dataframe tbody tr th:only-of-type {\n        vertical-align: middle;\n    }\n\n    .dataframe tbody tr th {\n        vertical-align: top;\n    }\n\n    .dataframe thead th {\n        text-align: right;\n    }\n</style>\n<table border=\"1\" class=\"dataframe\">\n  <thead>\n    <tr style=\"text-align: right;\">\n      <th></th>\n      <th>tweet_id</th>\n      <th>in_reply_to_status_id</th>\n      <th>in_reply_to_user_id</th>\n      <th>timestamp</th>\n      <th>source</th>\n      <th>text</th>\n      <th>retweeted_status_id</th>\n      <th>retweeted_status_user_id</th>\n      <th>retweeted_status_timestamp</th>\n      <th>expanded_urls</th>\n      <th>rating_numerator</th>\n      <th>rating_denominator</th>\n      <th>name</th>\n      <th>doggo</th>\n      <th>floofer</th>\n      <th>pupper</th>\n      <th>puppo</th>\n    </tr>\n  </thead>\n  <tbody>\n    <tr>\n      <th>1088</th>\n      <td>737826014890496000</td>\n      <td>NaN</td>\n      <td>NaN</td>\n      <td>2016-06-01 02:00:04 +0000</td>\n      <td>&lt;a href=\"http://twitter.com/download/iphone\" r...</td>\n      <td>This is Remy. He has some long ass ears (proba...</td>\n      <td>NaN</td>\n      <td>NaN</td>\n      <td>NaN</td>\n      <td>https://twitter.com/dog_rates/status/737826014...</td>\n      <td>10</td>\n      <td>10</td>\n      <td>Remy</td>\n      <td>None</td>\n      <td>None</td>\n      <td>None</td>\n      <td>None</td>\n    </tr>\n    <tr>\n      <th>2266</th>\n      <td>667530908589760512</td>\n      <td>NaN</td>\n      <td>NaN</td>\n      <td>2015-11-20 02:32:25 +0000</td>\n      <td>&lt;a href=\"http://twitter.com\" rel=\"nofollow\"&gt;Tw...</td>\n      <td>Meet Naphaniel. He doesn't necessarily enjoy h...</td>\n      <td>NaN</td>\n      <td>NaN</td>\n      <td>NaN</td>\n      <td>https://twitter.com/dog_rates/status/667530908...</td>\n      <td>10</td>\n      <td>10</td>\n      <td>Naphaniel</td>\n      <td>None</td>\n      <td>None</td>\n      <td>None</td>\n      <td>None</td>\n    </tr>\n  </tbody>\n</table>\n</div>"
     },
     "metadata": {},
     "execution_count": 9
    },
    {
     "output_type": "display_data",
     "data": {
      "text/plain": "<IPython.core.display.Javascript object>",
      "application/javascript": "\n            setTimeout(function() {\n                var nbb_cell_id = 9;\n                var nbb_unformatted_code = \"tweet_archive_df.sample(2)\";\n                var nbb_formatted_code = \"tweet_archive_df.sample(2)\";\n                var nbb_cells = Jupyter.notebook.get_cells();\n                for (var i = 0; i < nbb_cells.length; ++i) {\n                    if (nbb_cells[i].input_prompt_number == nbb_cell_id) {\n                        if (nbb_cells[i].get_text() == nbb_unformatted_code) {\n                             nbb_cells[i].set_text(nbb_formatted_code);\n                        }\n                        break;\n                    }\n                }\n            }, 500);\n            "
     },
     "metadata": {}
    }
   ],
   "source": [
    "tweet_archive_df.sample(2)"
   ]
  },
  {
   "cell_type": "code",
   "execution_count": 10,
   "metadata": {},
   "outputs": [
    {
     "output_type": "execute_result",
     "data": {
      "text/plain": "               tweet_id                                          jpg_url  \\\n109  667885044254572545  https://pbs.twimg.com/media/CUTN5V4XAAAIa4R.jpg   \n892  699413908797464576  https://pbs.twimg.com/media/CbTRPXdW8AQMZf7.jpg   \n\n     img_num        p1   p1_conf  p1_dog                p2   p2_conf  p2_dog  \\\n109        1  malamute  0.088530    True  golden_retriever  0.087499    True   \n892        1   Samoyed  0.517479    True          malamute  0.155935    True   \n\n             p3   p3_conf  p3_dog  \n109      muzzle  0.075008   False  \n892  Eskimo_dog  0.095001    True  ",
      "text/html": "<div>\n<style scoped>\n    .dataframe tbody tr th:only-of-type {\n        vertical-align: middle;\n    }\n\n    .dataframe tbody tr th {\n        vertical-align: top;\n    }\n\n    .dataframe thead th {\n        text-align: right;\n    }\n</style>\n<table border=\"1\" class=\"dataframe\">\n  <thead>\n    <tr style=\"text-align: right;\">\n      <th></th>\n      <th>tweet_id</th>\n      <th>jpg_url</th>\n      <th>img_num</th>\n      <th>p1</th>\n      <th>p1_conf</th>\n      <th>p1_dog</th>\n      <th>p2</th>\n      <th>p2_conf</th>\n      <th>p2_dog</th>\n      <th>p3</th>\n      <th>p3_conf</th>\n      <th>p3_dog</th>\n    </tr>\n  </thead>\n  <tbody>\n    <tr>\n      <th>109</th>\n      <td>667885044254572545</td>\n      <td>https://pbs.twimg.com/media/CUTN5V4XAAAIa4R.jpg</td>\n      <td>1</td>\n      <td>malamute</td>\n      <td>0.088530</td>\n      <td>True</td>\n      <td>golden_retriever</td>\n      <td>0.087499</td>\n      <td>True</td>\n      <td>muzzle</td>\n      <td>0.075008</td>\n      <td>False</td>\n    </tr>\n    <tr>\n      <th>892</th>\n      <td>699413908797464576</td>\n      <td>https://pbs.twimg.com/media/CbTRPXdW8AQMZf7.jpg</td>\n      <td>1</td>\n      <td>Samoyed</td>\n      <td>0.517479</td>\n      <td>True</td>\n      <td>malamute</td>\n      <td>0.155935</td>\n      <td>True</td>\n      <td>Eskimo_dog</td>\n      <td>0.095001</td>\n      <td>True</td>\n    </tr>\n  </tbody>\n</table>\n</div>"
     },
     "metadata": {},
     "execution_count": 10
    },
    {
     "output_type": "display_data",
     "data": {
      "text/plain": "<IPython.core.display.Javascript object>",
      "application/javascript": "\n            setTimeout(function() {\n                var nbb_cell_id = 10;\n                var nbb_unformatted_code = \"img_pred_df.sample(2)\";\n                var nbb_formatted_code = \"img_pred_df.sample(2)\";\n                var nbb_cells = Jupyter.notebook.get_cells();\n                for (var i = 0; i < nbb_cells.length; ++i) {\n                    if (nbb_cells[i].input_prompt_number == nbb_cell_id) {\n                        if (nbb_cells[i].get_text() == nbb_unformatted_code) {\n                             nbb_cells[i].set_text(nbb_formatted_code);\n                        }\n                        break;\n                    }\n                }\n            }, 500);\n            "
     },
     "metadata": {}
    }
   ],
   "source": [
    "img_pred_df.sample(2)"
   ]
  },
  {
   "cell_type": "code",
   "execution_count": 11,
   "metadata": {},
   "outputs": [
    {
     "output_type": "execute_result",
     "data": {
      "text/plain": "                    created_at                  id              id_str  \\\n0    2017-08-01 16:23:56+00:00  892420643555336193  892420643555336192   \n1    2017-08-01 00:17:27+00:00  892177421306343426  892177421306343424   \n2    2017-07-31 00:18:03+00:00  891815181378084864  891815181378084864   \n3    2017-07-30 15:58:51+00:00  891689557279858688  891689557279858688   \n4    2017-07-29 16:00:24+00:00  891327558926688256  891327558926688256   \n...                        ...                 ...                 ...   \n2349 2015-11-16 00:24:50+00:00  666049248165822465  666049248165822464   \n2350 2015-11-16 00:04:52+00:00  666044226329800704  666044226329800704   \n2351 2015-11-15 23:21:54+00:00  666033412701032449  666033412701032448   \n2352 2015-11-15 23:05:30+00:00  666029285002620928  666029285002620928   \n2353 2015-11-15 22:32:08+00:00  666020888022790149  666020888022790144   \n\n                                              full_text  truncated  \\\n0     This is Phineas. He's a mystical boy. Only eve...      False   \n1     This is Tilly. She's just checking pup on you....      False   \n2     This is Archie. He is a rare Norwegian Pouncin...      False   \n3     This is Darla. She commenced a snooze mid meal...      False   \n4     This is Franklin. He would like you to stop ca...      False   \n...                                                 ...        ...   \n2349  Here we have a 1949 1st generation vulpix. Enj...      False   \n2350  This is a purebred Piers Morgan. Loves to Netf...      False   \n2351  Here is a very happy pup. Big fan of well-main...      False   \n2352  This is a western brown Mitsubishi terrier. Up...      False   \n2353  Here we have a Japanese Irish Setter. Lost eye...      False   \n\n     display_text_range                                           entities  \\\n0               [0, 85]  {'hashtags': [], 'symbols': [], 'user_mentions...   \n1              [0, 138]  {'hashtags': [], 'symbols': [], 'user_mentions...   \n2              [0, 121]  {'hashtags': [], 'symbols': [], 'user_mentions...   \n3               [0, 79]  {'hashtags': [], 'symbols': [], 'user_mentions...   \n4              [0, 138]  {'hashtags': [{'text': 'BarkWeek', 'indices': ...   \n...                 ...                                                ...   \n2349           [0, 120]  {'hashtags': [], 'symbols': [], 'user_mentions...   \n2350           [0, 137]  {'hashtags': [], 'symbols': [], 'user_mentions...   \n2351           [0, 130]  {'hashtags': [], 'symbols': [], 'user_mentions...   \n2352           [0, 139]  {'hashtags': [], 'symbols': [], 'user_mentions...   \n2353           [0, 131]  {'hashtags': [], 'symbols': [], 'user_mentions...   \n\n                                      extended_entities  \\\n0     {'media': [{'id': 892420639486877696, 'id_str'...   \n1     {'media': [{'id': 892177413194625024, 'id_str'...   \n2     {'media': [{'id': 891815175371796480, 'id_str'...   \n3     {'media': [{'id': 891689552724799489, 'id_str'...   \n4     {'media': [{'id': 891327551943041024, 'id_str'...   \n...                                                 ...   \n2349  {'media': [{'id': 666049244999131136, 'id_str'...   \n2350  {'media': [{'id': 666044217047650304, 'id_str'...   \n2351  {'media': [{'id': 666033409081393153, 'id_str'...   \n2352  {'media': [{'id': 666029276303482880, 'id_str'...   \n2353  {'media': [{'id': 666020881337073664, 'id_str'...   \n\n                                                 source  \\\n0     <a href=\"http://twitter.com/download/iphone\" r...   \n1     <a href=\"http://twitter.com/download/iphone\" r...   \n2     <a href=\"http://twitter.com/download/iphone\" r...   \n3     <a href=\"http://twitter.com/download/iphone\" r...   \n4     <a href=\"http://twitter.com/download/iphone\" r...   \n...                                                 ...   \n2349  <a href=\"http://twitter.com/download/iphone\" r...   \n2350  <a href=\"http://twitter.com/download/iphone\" r...   \n2351  <a href=\"http://twitter.com/download/iphone\" r...   \n2352  <a href=\"http://twitter.com/download/iphone\" r...   \n2353  <a href=\"http://twitter.com/download/iphone\" r...   \n\n      in_reply_to_status_id  ...  favorite_count  favorited  retweeted  \\\n0                       NaN  ...           39467      False      False   \n1                       NaN  ...           33819      False      False   \n2                       NaN  ...           25461      False      False   \n3                       NaN  ...           42908      False      False   \n4                       NaN  ...           41048      False      False   \n...                     ...  ...             ...        ...        ...   \n2349                    NaN  ...             111      False      False   \n2350                    NaN  ...             311      False      False   \n2351                    NaN  ...             128      False      False   \n2352                    NaN  ...             132      False      False   \n2353                    NaN  ...            2535      False      False   \n\n     possibly_sensitive possibly_sensitive_appealable  lang  retweeted_status  \\\n0                   0.0                           0.0    en               NaN   \n1                   0.0                           0.0    en               NaN   \n2                   0.0                           0.0    en               NaN   \n3                   0.0                           0.0    en               NaN   \n4                   0.0                           0.0    en               NaN   \n...                 ...                           ...   ...               ...   \n2349                0.0                           0.0    en               NaN   \n2350                0.0                           0.0    en               NaN   \n2351                0.0                           0.0    en               NaN   \n2352                0.0                           0.0    en               NaN   \n2353                0.0                           0.0    en               NaN   \n\n     quoted_status_id  quoted_status_id_str  quoted_status  \n0                 NaN                   NaN            NaN  \n1                 NaN                   NaN            NaN  \n2                 NaN                   NaN            NaN  \n3                 NaN                   NaN            NaN  \n4                 NaN                   NaN            NaN  \n...               ...                   ...            ...  \n2349              NaN                   NaN            NaN  \n2350              NaN                   NaN            NaN  \n2351              NaN                   NaN            NaN  \n2352              NaN                   NaN            NaN  \n2353              NaN                   NaN            NaN  \n\n[2354 rows x 31 columns]",
      "text/html": "<div>\n<style scoped>\n    .dataframe tbody tr th:only-of-type {\n        vertical-align: middle;\n    }\n\n    .dataframe tbody tr th {\n        vertical-align: top;\n    }\n\n    .dataframe thead th {\n        text-align: right;\n    }\n</style>\n<table border=\"1\" class=\"dataframe\">\n  <thead>\n    <tr style=\"text-align: right;\">\n      <th></th>\n      <th>created_at</th>\n      <th>id</th>\n      <th>id_str</th>\n      <th>full_text</th>\n      <th>truncated</th>\n      <th>display_text_range</th>\n      <th>entities</th>\n      <th>extended_entities</th>\n      <th>source</th>\n      <th>in_reply_to_status_id</th>\n      <th>...</th>\n      <th>favorite_count</th>\n      <th>favorited</th>\n      <th>retweeted</th>\n      <th>possibly_sensitive</th>\n      <th>possibly_sensitive_appealable</th>\n      <th>lang</th>\n      <th>retweeted_status</th>\n      <th>quoted_status_id</th>\n      <th>quoted_status_id_str</th>\n      <th>quoted_status</th>\n    </tr>\n  </thead>\n  <tbody>\n    <tr>\n      <th>0</th>\n      <td>2017-08-01 16:23:56+00:00</td>\n      <td>892420643555336193</td>\n      <td>892420643555336192</td>\n      <td>This is Phineas. He's a mystical boy. Only eve...</td>\n      <td>False</td>\n      <td>[0, 85]</td>\n      <td>{'hashtags': [], 'symbols': [], 'user_mentions...</td>\n      <td>{'media': [{'id': 892420639486877696, 'id_str'...</td>\n      <td>&lt;a href=\"http://twitter.com/download/iphone\" r...</td>\n      <td>NaN</td>\n      <td>...</td>\n      <td>39467</td>\n      <td>False</td>\n      <td>False</td>\n      <td>0.0</td>\n      <td>0.0</td>\n      <td>en</td>\n      <td>NaN</td>\n      <td>NaN</td>\n      <td>NaN</td>\n      <td>NaN</td>\n    </tr>\n    <tr>\n      <th>1</th>\n      <td>2017-08-01 00:17:27+00:00</td>\n      <td>892177421306343426</td>\n      <td>892177421306343424</td>\n      <td>This is Tilly. She's just checking pup on you....</td>\n      <td>False</td>\n      <td>[0, 138]</td>\n      <td>{'hashtags': [], 'symbols': [], 'user_mentions...</td>\n      <td>{'media': [{'id': 892177413194625024, 'id_str'...</td>\n      <td>&lt;a href=\"http://twitter.com/download/iphone\" r...</td>\n      <td>NaN</td>\n      <td>...</td>\n      <td>33819</td>\n      <td>False</td>\n      <td>False</td>\n      <td>0.0</td>\n      <td>0.0</td>\n      <td>en</td>\n      <td>NaN</td>\n      <td>NaN</td>\n      <td>NaN</td>\n      <td>NaN</td>\n    </tr>\n    <tr>\n      <th>2</th>\n      <td>2017-07-31 00:18:03+00:00</td>\n      <td>891815181378084864</td>\n      <td>891815181378084864</td>\n      <td>This is Archie. He is a rare Norwegian Pouncin...</td>\n      <td>False</td>\n      <td>[0, 121]</td>\n      <td>{'hashtags': [], 'symbols': [], 'user_mentions...</td>\n      <td>{'media': [{'id': 891815175371796480, 'id_str'...</td>\n      <td>&lt;a href=\"http://twitter.com/download/iphone\" r...</td>\n      <td>NaN</td>\n      <td>...</td>\n      <td>25461</td>\n      <td>False</td>\n      <td>False</td>\n      <td>0.0</td>\n      <td>0.0</td>\n      <td>en</td>\n      <td>NaN</td>\n      <td>NaN</td>\n      <td>NaN</td>\n      <td>NaN</td>\n    </tr>\n    <tr>\n      <th>3</th>\n      <td>2017-07-30 15:58:51+00:00</td>\n      <td>891689557279858688</td>\n      <td>891689557279858688</td>\n      <td>This is Darla. She commenced a snooze mid meal...</td>\n      <td>False</td>\n      <td>[0, 79]</td>\n      <td>{'hashtags': [], 'symbols': [], 'user_mentions...</td>\n      <td>{'media': [{'id': 891689552724799489, 'id_str'...</td>\n      <td>&lt;a href=\"http://twitter.com/download/iphone\" r...</td>\n      <td>NaN</td>\n      <td>...</td>\n      <td>42908</td>\n      <td>False</td>\n      <td>False</td>\n      <td>0.0</td>\n      <td>0.0</td>\n      <td>en</td>\n      <td>NaN</td>\n      <td>NaN</td>\n      <td>NaN</td>\n      <td>NaN</td>\n    </tr>\n    <tr>\n      <th>4</th>\n      <td>2017-07-29 16:00:24+00:00</td>\n      <td>891327558926688256</td>\n      <td>891327558926688256</td>\n      <td>This is Franklin. He would like you to stop ca...</td>\n      <td>False</td>\n      <td>[0, 138]</td>\n      <td>{'hashtags': [{'text': 'BarkWeek', 'indices': ...</td>\n      <td>{'media': [{'id': 891327551943041024, 'id_str'...</td>\n      <td>&lt;a href=\"http://twitter.com/download/iphone\" r...</td>\n      <td>NaN</td>\n      <td>...</td>\n      <td>41048</td>\n      <td>False</td>\n      <td>False</td>\n      <td>0.0</td>\n      <td>0.0</td>\n      <td>en</td>\n      <td>NaN</td>\n      <td>NaN</td>\n      <td>NaN</td>\n      <td>NaN</td>\n    </tr>\n    <tr>\n      <th>...</th>\n      <td>...</td>\n      <td>...</td>\n      <td>...</td>\n      <td>...</td>\n      <td>...</td>\n      <td>...</td>\n      <td>...</td>\n      <td>...</td>\n      <td>...</td>\n      <td>...</td>\n      <td>...</td>\n      <td>...</td>\n      <td>...</td>\n      <td>...</td>\n      <td>...</td>\n      <td>...</td>\n      <td>...</td>\n      <td>...</td>\n      <td>...</td>\n      <td>...</td>\n      <td>...</td>\n    </tr>\n    <tr>\n      <th>2349</th>\n      <td>2015-11-16 00:24:50+00:00</td>\n      <td>666049248165822465</td>\n      <td>666049248165822464</td>\n      <td>Here we have a 1949 1st generation vulpix. Enj...</td>\n      <td>False</td>\n      <td>[0, 120]</td>\n      <td>{'hashtags': [], 'symbols': [], 'user_mentions...</td>\n      <td>{'media': [{'id': 666049244999131136, 'id_str'...</td>\n      <td>&lt;a href=\"http://twitter.com/download/iphone\" r...</td>\n      <td>NaN</td>\n      <td>...</td>\n      <td>111</td>\n      <td>False</td>\n      <td>False</td>\n      <td>0.0</td>\n      <td>0.0</td>\n      <td>en</td>\n      <td>NaN</td>\n      <td>NaN</td>\n      <td>NaN</td>\n      <td>NaN</td>\n    </tr>\n    <tr>\n      <th>2350</th>\n      <td>2015-11-16 00:04:52+00:00</td>\n      <td>666044226329800704</td>\n      <td>666044226329800704</td>\n      <td>This is a purebred Piers Morgan. Loves to Netf...</td>\n      <td>False</td>\n      <td>[0, 137]</td>\n      <td>{'hashtags': [], 'symbols': [], 'user_mentions...</td>\n      <td>{'media': [{'id': 666044217047650304, 'id_str'...</td>\n      <td>&lt;a href=\"http://twitter.com/download/iphone\" r...</td>\n      <td>NaN</td>\n      <td>...</td>\n      <td>311</td>\n      <td>False</td>\n      <td>False</td>\n      <td>0.0</td>\n      <td>0.0</td>\n      <td>en</td>\n      <td>NaN</td>\n      <td>NaN</td>\n      <td>NaN</td>\n      <td>NaN</td>\n    </tr>\n    <tr>\n      <th>2351</th>\n      <td>2015-11-15 23:21:54+00:00</td>\n      <td>666033412701032449</td>\n      <td>666033412701032448</td>\n      <td>Here is a very happy pup. Big fan of well-main...</td>\n      <td>False</td>\n      <td>[0, 130]</td>\n      <td>{'hashtags': [], 'symbols': [], 'user_mentions...</td>\n      <td>{'media': [{'id': 666033409081393153, 'id_str'...</td>\n      <td>&lt;a href=\"http://twitter.com/download/iphone\" r...</td>\n      <td>NaN</td>\n      <td>...</td>\n      <td>128</td>\n      <td>False</td>\n      <td>False</td>\n      <td>0.0</td>\n      <td>0.0</td>\n      <td>en</td>\n      <td>NaN</td>\n      <td>NaN</td>\n      <td>NaN</td>\n      <td>NaN</td>\n    </tr>\n    <tr>\n      <th>2352</th>\n      <td>2015-11-15 23:05:30+00:00</td>\n      <td>666029285002620928</td>\n      <td>666029285002620928</td>\n      <td>This is a western brown Mitsubishi terrier. Up...</td>\n      <td>False</td>\n      <td>[0, 139]</td>\n      <td>{'hashtags': [], 'symbols': [], 'user_mentions...</td>\n      <td>{'media': [{'id': 666029276303482880, 'id_str'...</td>\n      <td>&lt;a href=\"http://twitter.com/download/iphone\" r...</td>\n      <td>NaN</td>\n      <td>...</td>\n      <td>132</td>\n      <td>False</td>\n      <td>False</td>\n      <td>0.0</td>\n      <td>0.0</td>\n      <td>en</td>\n      <td>NaN</td>\n      <td>NaN</td>\n      <td>NaN</td>\n      <td>NaN</td>\n    </tr>\n    <tr>\n      <th>2353</th>\n      <td>2015-11-15 22:32:08+00:00</td>\n      <td>666020888022790149</td>\n      <td>666020888022790144</td>\n      <td>Here we have a Japanese Irish Setter. Lost eye...</td>\n      <td>False</td>\n      <td>[0, 131]</td>\n      <td>{'hashtags': [], 'symbols': [], 'user_mentions...</td>\n      <td>{'media': [{'id': 666020881337073664, 'id_str'...</td>\n      <td>&lt;a href=\"http://twitter.com/download/iphone\" r...</td>\n      <td>NaN</td>\n      <td>...</td>\n      <td>2535</td>\n      <td>False</td>\n      <td>False</td>\n      <td>0.0</td>\n      <td>0.0</td>\n      <td>en</td>\n      <td>NaN</td>\n      <td>NaN</td>\n      <td>NaN</td>\n      <td>NaN</td>\n    </tr>\n  </tbody>\n</table>\n<p>2354 rows × 31 columns</p>\n</div>"
     },
     "metadata": {},
     "execution_count": 11
    },
    {
     "output_type": "display_data",
     "data": {
      "text/plain": "<IPython.core.display.Javascript object>",
      "application/javascript": "\n            setTimeout(function() {\n                var nbb_cell_id = 11;\n                var nbb_unformatted_code = \"tweet_data_df\";\n                var nbb_formatted_code = \"tweet_data_df\";\n                var nbb_cells = Jupyter.notebook.get_cells();\n                for (var i = 0; i < nbb_cells.length; ++i) {\n                    if (nbb_cells[i].input_prompt_number == nbb_cell_id) {\n                        if (nbb_cells[i].get_text() == nbb_unformatted_code) {\n                             nbb_cells[i].set_text(nbb_formatted_code);\n                        }\n                        break;\n                    }\n                }\n            }, 500);\n            "
     },
     "metadata": {}
    }
   ],
   "source": [
    "tweet_data_df"
   ]
  },
  {
   "cell_type": "markdown",
   "metadata": {},
   "source": [
    "# Assessing Data"
   ]
  },
  {
   "cell_type": "markdown",
   "metadata": {},
   "source": [
    "## tweets' archive table"
   ]
  },
  {
   "cell_type": "markdown",
   "metadata": {},
   "source": [
    "### Visual assessment"
   ]
  },
  {
   "cell_type": "code",
   "execution_count": 12,
   "metadata": {},
   "outputs": [
    {
     "output_type": "execute_result",
     "data": {
      "text/plain": "             tweet_id  in_reply_to_status_id  in_reply_to_user_id  \\\n0  892420643555336193                    NaN                  NaN   \n1  892177421306343426                    NaN                  NaN   \n2  891815181378084864                    NaN                  NaN   \n3  891689557279858688                    NaN                  NaN   \n4  891327558926688256                    NaN                  NaN   \n\n                   timestamp  \\\n0  2017-08-01 16:23:56 +0000   \n1  2017-08-01 00:17:27 +0000   \n2  2017-07-31 00:18:03 +0000   \n3  2017-07-30 15:58:51 +0000   \n4  2017-07-29 16:00:24 +0000   \n\n                                              source  \\\n0  <a href=\"http://twitter.com/download/iphone\" r...   \n1  <a href=\"http://twitter.com/download/iphone\" r...   \n2  <a href=\"http://twitter.com/download/iphone\" r...   \n3  <a href=\"http://twitter.com/download/iphone\" r...   \n4  <a href=\"http://twitter.com/download/iphone\" r...   \n\n                                                text  retweeted_status_id  \\\n0  This is Phineas. He's a mystical boy. Only eve...                  NaN   \n1  This is Tilly. She's just checking pup on you....                  NaN   \n2  This is Archie. He is a rare Norwegian Pouncin...                  NaN   \n3  This is Darla. She commenced a snooze mid meal...                  NaN   \n4  This is Franklin. He would like you to stop ca...                  NaN   \n\n   retweeted_status_user_id retweeted_status_timestamp  \\\n0                       NaN                        NaN   \n1                       NaN                        NaN   \n2                       NaN                        NaN   \n3                       NaN                        NaN   \n4                       NaN                        NaN   \n\n                                       expanded_urls  rating_numerator  \\\n0  https://twitter.com/dog_rates/status/892420643...                13   \n1  https://twitter.com/dog_rates/status/892177421...                13   \n2  https://twitter.com/dog_rates/status/891815181...                12   \n3  https://twitter.com/dog_rates/status/891689557...                13   \n4  https://twitter.com/dog_rates/status/891327558...                12   \n\n   rating_denominator      name doggo floofer pupper puppo  \n0                  10   Phineas  None    None   None  None  \n1                  10     Tilly  None    None   None  None  \n2                  10    Archie  None    None   None  None  \n3                  10     Darla  None    None   None  None  \n4                  10  Franklin  None    None   None  None  ",
      "text/html": "<div>\n<style scoped>\n    .dataframe tbody tr th:only-of-type {\n        vertical-align: middle;\n    }\n\n    .dataframe tbody tr th {\n        vertical-align: top;\n    }\n\n    .dataframe thead th {\n        text-align: right;\n    }\n</style>\n<table border=\"1\" class=\"dataframe\">\n  <thead>\n    <tr style=\"text-align: right;\">\n      <th></th>\n      <th>tweet_id</th>\n      <th>in_reply_to_status_id</th>\n      <th>in_reply_to_user_id</th>\n      <th>timestamp</th>\n      <th>source</th>\n      <th>text</th>\n      <th>retweeted_status_id</th>\n      <th>retweeted_status_user_id</th>\n      <th>retweeted_status_timestamp</th>\n      <th>expanded_urls</th>\n      <th>rating_numerator</th>\n      <th>rating_denominator</th>\n      <th>name</th>\n      <th>doggo</th>\n      <th>floofer</th>\n      <th>pupper</th>\n      <th>puppo</th>\n    </tr>\n  </thead>\n  <tbody>\n    <tr>\n      <th>0</th>\n      <td>892420643555336193</td>\n      <td>NaN</td>\n      <td>NaN</td>\n      <td>2017-08-01 16:23:56 +0000</td>\n      <td>&lt;a href=\"http://twitter.com/download/iphone\" r...</td>\n      <td>This is Phineas. He's a mystical boy. Only eve...</td>\n      <td>NaN</td>\n      <td>NaN</td>\n      <td>NaN</td>\n      <td>https://twitter.com/dog_rates/status/892420643...</td>\n      <td>13</td>\n      <td>10</td>\n      <td>Phineas</td>\n      <td>None</td>\n      <td>None</td>\n      <td>None</td>\n      <td>None</td>\n    </tr>\n    <tr>\n      <th>1</th>\n      <td>892177421306343426</td>\n      <td>NaN</td>\n      <td>NaN</td>\n      <td>2017-08-01 00:17:27 +0000</td>\n      <td>&lt;a href=\"http://twitter.com/download/iphone\" r...</td>\n      <td>This is Tilly. She's just checking pup on you....</td>\n      <td>NaN</td>\n      <td>NaN</td>\n      <td>NaN</td>\n      <td>https://twitter.com/dog_rates/status/892177421...</td>\n      <td>13</td>\n      <td>10</td>\n      <td>Tilly</td>\n      <td>None</td>\n      <td>None</td>\n      <td>None</td>\n      <td>None</td>\n    </tr>\n    <tr>\n      <th>2</th>\n      <td>891815181378084864</td>\n      <td>NaN</td>\n      <td>NaN</td>\n      <td>2017-07-31 00:18:03 +0000</td>\n      <td>&lt;a href=\"http://twitter.com/download/iphone\" r...</td>\n      <td>This is Archie. He is a rare Norwegian Pouncin...</td>\n      <td>NaN</td>\n      <td>NaN</td>\n      <td>NaN</td>\n      <td>https://twitter.com/dog_rates/status/891815181...</td>\n      <td>12</td>\n      <td>10</td>\n      <td>Archie</td>\n      <td>None</td>\n      <td>None</td>\n      <td>None</td>\n      <td>None</td>\n    </tr>\n    <tr>\n      <th>3</th>\n      <td>891689557279858688</td>\n      <td>NaN</td>\n      <td>NaN</td>\n      <td>2017-07-30 15:58:51 +0000</td>\n      <td>&lt;a href=\"http://twitter.com/download/iphone\" r...</td>\n      <td>This is Darla. She commenced a snooze mid meal...</td>\n      <td>NaN</td>\n      <td>NaN</td>\n      <td>NaN</td>\n      <td>https://twitter.com/dog_rates/status/891689557...</td>\n      <td>13</td>\n      <td>10</td>\n      <td>Darla</td>\n      <td>None</td>\n      <td>None</td>\n      <td>None</td>\n      <td>None</td>\n    </tr>\n    <tr>\n      <th>4</th>\n      <td>891327558926688256</td>\n      <td>NaN</td>\n      <td>NaN</td>\n      <td>2017-07-29 16:00:24 +0000</td>\n      <td>&lt;a href=\"http://twitter.com/download/iphone\" r...</td>\n      <td>This is Franklin. He would like you to stop ca...</td>\n      <td>NaN</td>\n      <td>NaN</td>\n      <td>NaN</td>\n      <td>https://twitter.com/dog_rates/status/891327558...</td>\n      <td>12</td>\n      <td>10</td>\n      <td>Franklin</td>\n      <td>None</td>\n      <td>None</td>\n      <td>None</td>\n      <td>None</td>\n    </tr>\n  </tbody>\n</table>\n</div>"
     },
     "metadata": {},
     "execution_count": 12
    },
    {
     "output_type": "display_data",
     "data": {
      "text/plain": "<IPython.core.display.Javascript object>",
      "application/javascript": "\n            setTimeout(function() {\n                var nbb_cell_id = 12;\n                var nbb_unformatted_code = \"tweet_archive_df.head()\";\n                var nbb_formatted_code = \"tweet_archive_df.head()\";\n                var nbb_cells = Jupyter.notebook.get_cells();\n                for (var i = 0; i < nbb_cells.length; ++i) {\n                    if (nbb_cells[i].input_prompt_number == nbb_cell_id) {\n                        if (nbb_cells[i].get_text() == nbb_unformatted_code) {\n                             nbb_cells[i].set_text(nbb_formatted_code);\n                        }\n                        break;\n                    }\n                }\n            }, 500);\n            "
     },
     "metadata": {}
    }
   ],
   "source": [
    "tweet_archive_df.head()"
   ]
  },
  {
   "cell_type": "code",
   "execution_count": 13,
   "metadata": {},
   "outputs": [
    {
     "output_type": "execute_result",
     "data": {
      "text/plain": "                tweet_id  in_reply_to_status_id  in_reply_to_user_id  \\\n2351  666049248165822465                    NaN                  NaN   \n2352  666044226329800704                    NaN                  NaN   \n2353  666033412701032449                    NaN                  NaN   \n2354  666029285002620928                    NaN                  NaN   \n2355  666020888022790149                    NaN                  NaN   \n\n                      timestamp  \\\n2351  2015-11-16 00:24:50 +0000   \n2352  2015-11-16 00:04:52 +0000   \n2353  2015-11-15 23:21:54 +0000   \n2354  2015-11-15 23:05:30 +0000   \n2355  2015-11-15 22:32:08 +0000   \n\n                                                 source  \\\n2351  <a href=\"http://twitter.com/download/iphone\" r...   \n2352  <a href=\"http://twitter.com/download/iphone\" r...   \n2353  <a href=\"http://twitter.com/download/iphone\" r...   \n2354  <a href=\"http://twitter.com/download/iphone\" r...   \n2355  <a href=\"http://twitter.com/download/iphone\" r...   \n\n                                                   text  retweeted_status_id  \\\n2351  Here we have a 1949 1st generation vulpix. Enj...                  NaN   \n2352  This is a purebred Piers Morgan. Loves to Netf...                  NaN   \n2353  Here is a very happy pup. Big fan of well-main...                  NaN   \n2354  This is a western brown Mitsubishi terrier. Up...                  NaN   \n2355  Here we have a Japanese Irish Setter. Lost eye...                  NaN   \n\n      retweeted_status_user_id retweeted_status_timestamp  \\\n2351                       NaN                        NaN   \n2352                       NaN                        NaN   \n2353                       NaN                        NaN   \n2354                       NaN                        NaN   \n2355                       NaN                        NaN   \n\n                                          expanded_urls  rating_numerator  \\\n2351  https://twitter.com/dog_rates/status/666049248...                 5   \n2352  https://twitter.com/dog_rates/status/666044226...                 6   \n2353  https://twitter.com/dog_rates/status/666033412...                 9   \n2354  https://twitter.com/dog_rates/status/666029285...                 7   \n2355  https://twitter.com/dog_rates/status/666020888...                 8   \n\n      rating_denominator  name doggo floofer pupper puppo  \n2351                  10  None  None    None   None  None  \n2352                  10     a  None    None   None  None  \n2353                  10     a  None    None   None  None  \n2354                  10     a  None    None   None  None  \n2355                  10  None  None    None   None  None  ",
      "text/html": "<div>\n<style scoped>\n    .dataframe tbody tr th:only-of-type {\n        vertical-align: middle;\n    }\n\n    .dataframe tbody tr th {\n        vertical-align: top;\n    }\n\n    .dataframe thead th {\n        text-align: right;\n    }\n</style>\n<table border=\"1\" class=\"dataframe\">\n  <thead>\n    <tr style=\"text-align: right;\">\n      <th></th>\n      <th>tweet_id</th>\n      <th>in_reply_to_status_id</th>\n      <th>in_reply_to_user_id</th>\n      <th>timestamp</th>\n      <th>source</th>\n      <th>text</th>\n      <th>retweeted_status_id</th>\n      <th>retweeted_status_user_id</th>\n      <th>retweeted_status_timestamp</th>\n      <th>expanded_urls</th>\n      <th>rating_numerator</th>\n      <th>rating_denominator</th>\n      <th>name</th>\n      <th>doggo</th>\n      <th>floofer</th>\n      <th>pupper</th>\n      <th>puppo</th>\n    </tr>\n  </thead>\n  <tbody>\n    <tr>\n      <th>2351</th>\n      <td>666049248165822465</td>\n      <td>NaN</td>\n      <td>NaN</td>\n      <td>2015-11-16 00:24:50 +0000</td>\n      <td>&lt;a href=\"http://twitter.com/download/iphone\" r...</td>\n      <td>Here we have a 1949 1st generation vulpix. Enj...</td>\n      <td>NaN</td>\n      <td>NaN</td>\n      <td>NaN</td>\n      <td>https://twitter.com/dog_rates/status/666049248...</td>\n      <td>5</td>\n      <td>10</td>\n      <td>None</td>\n      <td>None</td>\n      <td>None</td>\n      <td>None</td>\n      <td>None</td>\n    </tr>\n    <tr>\n      <th>2352</th>\n      <td>666044226329800704</td>\n      <td>NaN</td>\n      <td>NaN</td>\n      <td>2015-11-16 00:04:52 +0000</td>\n      <td>&lt;a href=\"http://twitter.com/download/iphone\" r...</td>\n      <td>This is a purebred Piers Morgan. Loves to Netf...</td>\n      <td>NaN</td>\n      <td>NaN</td>\n      <td>NaN</td>\n      <td>https://twitter.com/dog_rates/status/666044226...</td>\n      <td>6</td>\n      <td>10</td>\n      <td>a</td>\n      <td>None</td>\n      <td>None</td>\n      <td>None</td>\n      <td>None</td>\n    </tr>\n    <tr>\n      <th>2353</th>\n      <td>666033412701032449</td>\n      <td>NaN</td>\n      <td>NaN</td>\n      <td>2015-11-15 23:21:54 +0000</td>\n      <td>&lt;a href=\"http://twitter.com/download/iphone\" r...</td>\n      <td>Here is a very happy pup. Big fan of well-main...</td>\n      <td>NaN</td>\n      <td>NaN</td>\n      <td>NaN</td>\n      <td>https://twitter.com/dog_rates/status/666033412...</td>\n      <td>9</td>\n      <td>10</td>\n      <td>a</td>\n      <td>None</td>\n      <td>None</td>\n      <td>None</td>\n      <td>None</td>\n    </tr>\n    <tr>\n      <th>2354</th>\n      <td>666029285002620928</td>\n      <td>NaN</td>\n      <td>NaN</td>\n      <td>2015-11-15 23:05:30 +0000</td>\n      <td>&lt;a href=\"http://twitter.com/download/iphone\" r...</td>\n      <td>This is a western brown Mitsubishi terrier. Up...</td>\n      <td>NaN</td>\n      <td>NaN</td>\n      <td>NaN</td>\n      <td>https://twitter.com/dog_rates/status/666029285...</td>\n      <td>7</td>\n      <td>10</td>\n      <td>a</td>\n      <td>None</td>\n      <td>None</td>\n      <td>None</td>\n      <td>None</td>\n    </tr>\n    <tr>\n      <th>2355</th>\n      <td>666020888022790149</td>\n      <td>NaN</td>\n      <td>NaN</td>\n      <td>2015-11-15 22:32:08 +0000</td>\n      <td>&lt;a href=\"http://twitter.com/download/iphone\" r...</td>\n      <td>Here we have a Japanese Irish Setter. Lost eye...</td>\n      <td>NaN</td>\n      <td>NaN</td>\n      <td>NaN</td>\n      <td>https://twitter.com/dog_rates/status/666020888...</td>\n      <td>8</td>\n      <td>10</td>\n      <td>None</td>\n      <td>None</td>\n      <td>None</td>\n      <td>None</td>\n      <td>None</td>\n    </tr>\n  </tbody>\n</table>\n</div>"
     },
     "metadata": {},
     "execution_count": 13
    },
    {
     "output_type": "display_data",
     "data": {
      "text/plain": "<IPython.core.display.Javascript object>",
      "application/javascript": "\n            setTimeout(function() {\n                var nbb_cell_id = 13;\n                var nbb_unformatted_code = \"tweet_archive_df.tail()\";\n                var nbb_formatted_code = \"tweet_archive_df.tail()\";\n                var nbb_cells = Jupyter.notebook.get_cells();\n                for (var i = 0; i < nbb_cells.length; ++i) {\n                    if (nbb_cells[i].input_prompt_number == nbb_cell_id) {\n                        if (nbb_cells[i].get_text() == nbb_unformatted_code) {\n                             nbb_cells[i].set_text(nbb_formatted_code);\n                        }\n                        break;\n                    }\n                }\n            }, 500);\n            "
     },
     "metadata": {}
    }
   ],
   "source": [
    "tweet_archive_df.tail()"
   ]
  },
  {
   "cell_type": "code",
   "execution_count": 14,
   "metadata": {
    "scrolled": true
   },
   "outputs": [
    {
     "output_type": "execute_result",
     "data": {
      "text/plain": "                tweet_id  in_reply_to_status_id  in_reply_to_user_id  \\\n1704  680889648562991104                    NaN                  NaN   \n1923  674082852460433408                    NaN                  NaN   \n58    880935762899988482                    NaN                  NaN   \n86    875747767867523072                    NaN                  NaN   \n1665  682750546109968385                    NaN                  NaN   \n\n                      timestamp  \\\n1704  2015-12-26 23:15:17 +0000   \n1923  2015-12-08 04:27:30 +0000   \n58    2017-06-30 23:47:07 +0000   \n86    2017-06-16 16:11:53 +0000   \n1665  2016-01-01 02:29:49 +0000   \n\n                                                 source  \\\n1704  <a href=\"http://twitter.com/download/iphone\" r...   \n1923  <a href=\"http://twitter.com/download/iphone\" r...   \n58    <a href=\"http://twitter.com/download/iphone\" r...   \n86    <a href=\"http://twitter.com/download/iphone\" r...   \n1665  <a href=\"http://twitter.com/download/iphone\" r...   \n\n                                                   text  retweeted_status_id  \\\n1704  This is Cheesy. It's her birthday. She's patie...                  NaN   \n1923  This is a Sagitariot Baklava mix. Loves her ne...                  NaN   \n58    This is Louis. He's crossing. It's a big deal....                  NaN   \n86    This is Goose. He's a womanizer. Cheeky as h*c...                  NaN   \n1665  Meet Taco. He's a speckled Garnier Fructis. Lo...                  NaN   \n\n      retweeted_status_user_id retweeted_status_timestamp  \\\n1704                       NaN                        NaN   \n1923                       NaN                        NaN   \n58                         NaN                        NaN   \n86                         NaN                        NaN   \n1665                       NaN                        NaN   \n\n                                          expanded_urls  rating_numerator  \\\n1704  https://twitter.com/dog_rates/status/680889648...                 9   \n1923  https://twitter.com/dog_rates/status/674082852...                11   \n58    https://twitter.com/dog_rates/status/880935762...                13   \n86    https://twitter.com/dog_rates/status/875747767...                13   \n1665  https://twitter.com/dog_rates/status/682750546...                 9   \n\n      rating_denominator    name doggo floofer pupper puppo  \n1704                  10  Cheesy  None    None   None  None  \n1923                  10       a  None    None   None  None  \n58                    10   Louis  None    None   None  None  \n86                    10   Goose  None    None   None  None  \n1665                  10    Taco  None    None   None  None  ",
      "text/html": "<div>\n<style scoped>\n    .dataframe tbody tr th:only-of-type {\n        vertical-align: middle;\n    }\n\n    .dataframe tbody tr th {\n        vertical-align: top;\n    }\n\n    .dataframe thead th {\n        text-align: right;\n    }\n</style>\n<table border=\"1\" class=\"dataframe\">\n  <thead>\n    <tr style=\"text-align: right;\">\n      <th></th>\n      <th>tweet_id</th>\n      <th>in_reply_to_status_id</th>\n      <th>in_reply_to_user_id</th>\n      <th>timestamp</th>\n      <th>source</th>\n      <th>text</th>\n      <th>retweeted_status_id</th>\n      <th>retweeted_status_user_id</th>\n      <th>retweeted_status_timestamp</th>\n      <th>expanded_urls</th>\n      <th>rating_numerator</th>\n      <th>rating_denominator</th>\n      <th>name</th>\n      <th>doggo</th>\n      <th>floofer</th>\n      <th>pupper</th>\n      <th>puppo</th>\n    </tr>\n  </thead>\n  <tbody>\n    <tr>\n      <th>1704</th>\n      <td>680889648562991104</td>\n      <td>NaN</td>\n      <td>NaN</td>\n      <td>2015-12-26 23:15:17 +0000</td>\n      <td>&lt;a href=\"http://twitter.com/download/iphone\" r...</td>\n      <td>This is Cheesy. It's her birthday. She's patie...</td>\n      <td>NaN</td>\n      <td>NaN</td>\n      <td>NaN</td>\n      <td>https://twitter.com/dog_rates/status/680889648...</td>\n      <td>9</td>\n      <td>10</td>\n      <td>Cheesy</td>\n      <td>None</td>\n      <td>None</td>\n      <td>None</td>\n      <td>None</td>\n    </tr>\n    <tr>\n      <th>1923</th>\n      <td>674082852460433408</td>\n      <td>NaN</td>\n      <td>NaN</td>\n      <td>2015-12-08 04:27:30 +0000</td>\n      <td>&lt;a href=\"http://twitter.com/download/iphone\" r...</td>\n      <td>This is a Sagitariot Baklava mix. Loves her ne...</td>\n      <td>NaN</td>\n      <td>NaN</td>\n      <td>NaN</td>\n      <td>https://twitter.com/dog_rates/status/674082852...</td>\n      <td>11</td>\n      <td>10</td>\n      <td>a</td>\n      <td>None</td>\n      <td>None</td>\n      <td>None</td>\n      <td>None</td>\n    </tr>\n    <tr>\n      <th>58</th>\n      <td>880935762899988482</td>\n      <td>NaN</td>\n      <td>NaN</td>\n      <td>2017-06-30 23:47:07 +0000</td>\n      <td>&lt;a href=\"http://twitter.com/download/iphone\" r...</td>\n      <td>This is Louis. He's crossing. It's a big deal....</td>\n      <td>NaN</td>\n      <td>NaN</td>\n      <td>NaN</td>\n      <td>https://twitter.com/dog_rates/status/880935762...</td>\n      <td>13</td>\n      <td>10</td>\n      <td>Louis</td>\n      <td>None</td>\n      <td>None</td>\n      <td>None</td>\n      <td>None</td>\n    </tr>\n    <tr>\n      <th>86</th>\n      <td>875747767867523072</td>\n      <td>NaN</td>\n      <td>NaN</td>\n      <td>2017-06-16 16:11:53 +0000</td>\n      <td>&lt;a href=\"http://twitter.com/download/iphone\" r...</td>\n      <td>This is Goose. He's a womanizer. Cheeky as h*c...</td>\n      <td>NaN</td>\n      <td>NaN</td>\n      <td>NaN</td>\n      <td>https://twitter.com/dog_rates/status/875747767...</td>\n      <td>13</td>\n      <td>10</td>\n      <td>Goose</td>\n      <td>None</td>\n      <td>None</td>\n      <td>None</td>\n      <td>None</td>\n    </tr>\n    <tr>\n      <th>1665</th>\n      <td>682750546109968385</td>\n      <td>NaN</td>\n      <td>NaN</td>\n      <td>2016-01-01 02:29:49 +0000</td>\n      <td>&lt;a href=\"http://twitter.com/download/iphone\" r...</td>\n      <td>Meet Taco. He's a speckled Garnier Fructis. Lo...</td>\n      <td>NaN</td>\n      <td>NaN</td>\n      <td>NaN</td>\n      <td>https://twitter.com/dog_rates/status/682750546...</td>\n      <td>9</td>\n      <td>10</td>\n      <td>Taco</td>\n      <td>None</td>\n      <td>None</td>\n      <td>None</td>\n      <td>None</td>\n    </tr>\n  </tbody>\n</table>\n</div>"
     },
     "metadata": {},
     "execution_count": 14
    },
    {
     "output_type": "display_data",
     "data": {
      "text/plain": "<IPython.core.display.Javascript object>",
      "application/javascript": "\n            setTimeout(function() {\n                var nbb_cell_id = 14;\n                var nbb_unformatted_code = \"tweet_archive_df.sample(5)\";\n                var nbb_formatted_code = \"tweet_archive_df.sample(5)\";\n                var nbb_cells = Jupyter.notebook.get_cells();\n                for (var i = 0; i < nbb_cells.length; ++i) {\n                    if (nbb_cells[i].input_prompt_number == nbb_cell_id) {\n                        if (nbb_cells[i].get_text() == nbb_unformatted_code) {\n                             nbb_cells[i].set_text(nbb_formatted_code);\n                        }\n                        break;\n                    }\n                }\n            }, 500);\n            "
     },
     "metadata": {}
    }
   ],
   "source": [
    "tweet_archive_df.sample(5)"
   ]
  },
  {
   "cell_type": "markdown",
   "metadata": {},
   "source": [
    "### Programmatic assessment"
   ]
  },
  {
   "cell_type": "code",
   "execution_count": 15,
   "metadata": {
    "tags": []
   },
   "outputs": [
    {
     "output_type": "stream",
     "name": "stdout",
     "text": "<class 'pandas.core.frame.DataFrame'>\nRangeIndex: 2356 entries, 0 to 2355\nData columns (total 17 columns):\n #   Column                      Non-Null Count  Dtype  \n---  ------                      --------------  -----  \n 0   tweet_id                    2356 non-null   int64  \n 1   in_reply_to_status_id       78 non-null     float64\n 2   in_reply_to_user_id         78 non-null     float64\n 3   timestamp                   2356 non-null   object \n 4   source                      2356 non-null   object \n 5   text                        2356 non-null   object \n 6   retweeted_status_id         181 non-null    float64\n 7   retweeted_status_user_id    181 non-null    float64\n 8   retweeted_status_timestamp  181 non-null    object \n 9   expanded_urls               2297 non-null   object \n 10  rating_numerator            2356 non-null   int64  \n 11  rating_denominator          2356 non-null   int64  \n 12  name                        2356 non-null   object \n 13  doggo                       2356 non-null   object \n 14  floofer                     2356 non-null   object \n 15  pupper                      2356 non-null   object \n 16  puppo                       2356 non-null   object \ndtypes: float64(4), int64(3), object(10)\nmemory usage: 313.0+ KB\n"
    },
    {
     "output_type": "display_data",
     "data": {
      "text/plain": "<IPython.core.display.Javascript object>",
      "application/javascript": "\n            setTimeout(function() {\n                var nbb_cell_id = 15;\n                var nbb_unformatted_code = \"tweet_archive_df.info()\";\n                var nbb_formatted_code = \"tweet_archive_df.info()\";\n                var nbb_cells = Jupyter.notebook.get_cells();\n                for (var i = 0; i < nbb_cells.length; ++i) {\n                    if (nbb_cells[i].input_prompt_number == nbb_cell_id) {\n                        if (nbb_cells[i].get_text() == nbb_unformatted_code) {\n                             nbb_cells[i].set_text(nbb_formatted_code);\n                        }\n                        break;\n                    }\n                }\n            }, 500);\n            "
     },
     "metadata": {}
    }
   ],
   "source": [
    "tweet_archive_df.info()"
   ]
  },
  {
   "cell_type": "code",
   "execution_count": 16,
   "metadata": {},
   "outputs": [
    {
     "output_type": "execute_result",
     "data": {
      "text/plain": "           tweet_id  in_reply_to_status_id  in_reply_to_user_id  \\\ncount  2.356000e+03           7.800000e+01         7.800000e+01   \nmean   7.427716e+17           7.455079e+17         2.014171e+16   \nstd    6.856705e+16           7.582492e+16         1.252797e+17   \nmin    6.660209e+17           6.658147e+17         1.185634e+07   \n25%    6.783989e+17           6.757419e+17         3.086374e+08   \n50%    7.196279e+17           7.038708e+17         4.196984e+09   \n75%    7.993373e+17           8.257804e+17         4.196984e+09   \nmax    8.924206e+17           8.862664e+17         8.405479e+17   \n\n       retweeted_status_id  retweeted_status_user_id  rating_numerator  \\\ncount         1.810000e+02              1.810000e+02       2356.000000   \nmean          7.720400e+17              1.241698e+16         13.126486   \nstd           6.236928e+16              9.599254e+16         45.876648   \nmin           6.661041e+17              7.832140e+05          0.000000   \n25%           7.186315e+17              4.196984e+09         10.000000   \n50%           7.804657e+17              4.196984e+09         11.000000   \n75%           8.203146e+17              4.196984e+09         12.000000   \nmax           8.874740e+17              7.874618e+17       1776.000000   \n\n       rating_denominator  \ncount         2356.000000  \nmean            10.455433  \nstd              6.745237  \nmin              0.000000  \n25%             10.000000  \n50%             10.000000  \n75%             10.000000  \nmax            170.000000  ",
      "text/html": "<div>\n<style scoped>\n    .dataframe tbody tr th:only-of-type {\n        vertical-align: middle;\n    }\n\n    .dataframe tbody tr th {\n        vertical-align: top;\n    }\n\n    .dataframe thead th {\n        text-align: right;\n    }\n</style>\n<table border=\"1\" class=\"dataframe\">\n  <thead>\n    <tr style=\"text-align: right;\">\n      <th></th>\n      <th>tweet_id</th>\n      <th>in_reply_to_status_id</th>\n      <th>in_reply_to_user_id</th>\n      <th>retweeted_status_id</th>\n      <th>retweeted_status_user_id</th>\n      <th>rating_numerator</th>\n      <th>rating_denominator</th>\n    </tr>\n  </thead>\n  <tbody>\n    <tr>\n      <th>count</th>\n      <td>2.356000e+03</td>\n      <td>7.800000e+01</td>\n      <td>7.800000e+01</td>\n      <td>1.810000e+02</td>\n      <td>1.810000e+02</td>\n      <td>2356.000000</td>\n      <td>2356.000000</td>\n    </tr>\n    <tr>\n      <th>mean</th>\n      <td>7.427716e+17</td>\n      <td>7.455079e+17</td>\n      <td>2.014171e+16</td>\n      <td>7.720400e+17</td>\n      <td>1.241698e+16</td>\n      <td>13.126486</td>\n      <td>10.455433</td>\n    </tr>\n    <tr>\n      <th>std</th>\n      <td>6.856705e+16</td>\n      <td>7.582492e+16</td>\n      <td>1.252797e+17</td>\n      <td>6.236928e+16</td>\n      <td>9.599254e+16</td>\n      <td>45.876648</td>\n      <td>6.745237</td>\n    </tr>\n    <tr>\n      <th>min</th>\n      <td>6.660209e+17</td>\n      <td>6.658147e+17</td>\n      <td>1.185634e+07</td>\n      <td>6.661041e+17</td>\n      <td>7.832140e+05</td>\n      <td>0.000000</td>\n      <td>0.000000</td>\n    </tr>\n    <tr>\n      <th>25%</th>\n      <td>6.783989e+17</td>\n      <td>6.757419e+17</td>\n      <td>3.086374e+08</td>\n      <td>7.186315e+17</td>\n      <td>4.196984e+09</td>\n      <td>10.000000</td>\n      <td>10.000000</td>\n    </tr>\n    <tr>\n      <th>50%</th>\n      <td>7.196279e+17</td>\n      <td>7.038708e+17</td>\n      <td>4.196984e+09</td>\n      <td>7.804657e+17</td>\n      <td>4.196984e+09</td>\n      <td>11.000000</td>\n      <td>10.000000</td>\n    </tr>\n    <tr>\n      <th>75%</th>\n      <td>7.993373e+17</td>\n      <td>8.257804e+17</td>\n      <td>4.196984e+09</td>\n      <td>8.203146e+17</td>\n      <td>4.196984e+09</td>\n      <td>12.000000</td>\n      <td>10.000000</td>\n    </tr>\n    <tr>\n      <th>max</th>\n      <td>8.924206e+17</td>\n      <td>8.862664e+17</td>\n      <td>8.405479e+17</td>\n      <td>8.874740e+17</td>\n      <td>7.874618e+17</td>\n      <td>1776.000000</td>\n      <td>170.000000</td>\n    </tr>\n  </tbody>\n</table>\n</div>"
     },
     "metadata": {},
     "execution_count": 16
    },
    {
     "output_type": "display_data",
     "data": {
      "text/plain": "<IPython.core.display.Javascript object>",
      "application/javascript": "\n            setTimeout(function() {\n                var nbb_cell_id = 16;\n                var nbb_unformatted_code = \"tweet_archive_df.describe()\";\n                var nbb_formatted_code = \"tweet_archive_df.describe()\";\n                var nbb_cells = Jupyter.notebook.get_cells();\n                for (var i = 0; i < nbb_cells.length; ++i) {\n                    if (nbb_cells[i].input_prompt_number == nbb_cell_id) {\n                        if (nbb_cells[i].get_text() == nbb_unformatted_code) {\n                             nbb_cells[i].set_text(nbb_formatted_code);\n                        }\n                        break;\n                    }\n                }\n            }, 500);\n            "
     },
     "metadata": {}
    }
   ],
   "source": [
    "tweet_archive_df.describe()"
   ]
  },
  {
   "cell_type": "code",
   "execution_count": 17,
   "metadata": {},
   "outputs": [
    {
     "output_type": "execute_result",
     "data": {
      "text/plain": "10     2333\n11        3\n50        3\n80        2\n20        2\n2         1\n16        1\n40        1\n70        1\n15        1\n90        1\n110       1\n120       1\n130       1\n150       1\n170       1\n7         1\n0         1\nName: rating_denominator, dtype: int64"
     },
     "metadata": {},
     "execution_count": 17
    },
    {
     "output_type": "display_data",
     "data": {
      "text/plain": "<IPython.core.display.Javascript object>",
      "application/javascript": "\n            setTimeout(function() {\n                var nbb_cell_id = 17;\n                var nbb_unformatted_code = \"tweet_archive_df.rating_denominator.value_counts()\";\n                var nbb_formatted_code = \"tweet_archive_df.rating_denominator.value_counts()\";\n                var nbb_cells = Jupyter.notebook.get_cells();\n                for (var i = 0; i < nbb_cells.length; ++i) {\n                    if (nbb_cells[i].input_prompt_number == nbb_cell_id) {\n                        if (nbb_cells[i].get_text() == nbb_unformatted_code) {\n                             nbb_cells[i].set_text(nbb_formatted_code);\n                        }\n                        break;\n                    }\n                }\n            }, 500);\n            "
     },
     "metadata": {}
    }
   ],
   "source": [
    "tweet_archive_df.rating_denominator.value_counts()"
   ]
  },
  {
   "cell_type": "markdown",
   "metadata": {},
   "source": [
    "### Findings\n",
    "\n",
    "**Quality Issues**\n",
    "\n",
    "- Missing values in:\n",
    "    - `in_reply_to_status_id`\n",
    "    - `in_reply_to_user_id`\n",
    "    - `retweeted_status_id`\n",
    "    - `retweeted_status_user_id`\n",
    "    - `retweeted_status_timestamp`\n",
    "    - `expanded_urls`\n",
    "\n",
    "\n",
    "- Outlier values in `rating_denominator`.\n",
    "\n",
    "*It is understandable that rating numerators are through the roof because let's face it, dogs are really cute. However, the rating denominator has to conform to some schema so we can reliably analyze these ratings later. This is why I am deeming any rating denominator value other than 10 to be invalid.*\n",
    "\n",
    "- Erroneous data type for the `timestamp` column\n",
    "\n",
    "**Tidiness Issues**"
   ]
  },
  {
   "cell_type": "markdown",
   "metadata": {},
   "source": [
    "## Image predictions table"
   ]
  },
  {
   "cell_type": "markdown",
   "metadata": {},
   "source": [
    "### Visual assessment"
   ]
  },
  {
   "cell_type": "code",
   "execution_count": 18,
   "metadata": {},
   "outputs": [
    {
     "output_type": "execute_result",
     "data": {
      "text/plain": "             tweet_id                                          jpg_url  \\\n0  666020888022790149  https://pbs.twimg.com/media/CT4udn0WwAA0aMy.jpg   \n1  666029285002620928  https://pbs.twimg.com/media/CT42GRgUYAA5iDo.jpg   \n2  666033412701032449  https://pbs.twimg.com/media/CT4521TWwAEvMyu.jpg   \n3  666044226329800704  https://pbs.twimg.com/media/CT5Dr8HUEAA-lEu.jpg   \n4  666049248165822465  https://pbs.twimg.com/media/CT5IQmsXIAAKY4A.jpg   \n\n   img_num                      p1   p1_conf  p1_dog                  p2  \\\n0        1  Welsh_springer_spaniel  0.465074    True              collie   \n1        1                 redbone  0.506826    True  miniature_pinscher   \n2        1         German_shepherd  0.596461    True            malinois   \n3        1     Rhodesian_ridgeback  0.408143    True             redbone   \n4        1      miniature_pinscher  0.560311    True          Rottweiler   \n\n    p2_conf  p2_dog                   p3   p3_conf  p3_dog  \n0  0.156665    True    Shetland_sheepdog  0.061428    True  \n1  0.074192    True  Rhodesian_ridgeback  0.072010    True  \n2  0.138584    True           bloodhound  0.116197    True  \n3  0.360687    True   miniature_pinscher  0.222752    True  \n4  0.243682    True             Doberman  0.154629    True  ",
      "text/html": "<div>\n<style scoped>\n    .dataframe tbody tr th:only-of-type {\n        vertical-align: middle;\n    }\n\n    .dataframe tbody tr th {\n        vertical-align: top;\n    }\n\n    .dataframe thead th {\n        text-align: right;\n    }\n</style>\n<table border=\"1\" class=\"dataframe\">\n  <thead>\n    <tr style=\"text-align: right;\">\n      <th></th>\n      <th>tweet_id</th>\n      <th>jpg_url</th>\n      <th>img_num</th>\n      <th>p1</th>\n      <th>p1_conf</th>\n      <th>p1_dog</th>\n      <th>p2</th>\n      <th>p2_conf</th>\n      <th>p2_dog</th>\n      <th>p3</th>\n      <th>p3_conf</th>\n      <th>p3_dog</th>\n    </tr>\n  </thead>\n  <tbody>\n    <tr>\n      <th>0</th>\n      <td>666020888022790149</td>\n      <td>https://pbs.twimg.com/media/CT4udn0WwAA0aMy.jpg</td>\n      <td>1</td>\n      <td>Welsh_springer_spaniel</td>\n      <td>0.465074</td>\n      <td>True</td>\n      <td>collie</td>\n      <td>0.156665</td>\n      <td>True</td>\n      <td>Shetland_sheepdog</td>\n      <td>0.061428</td>\n      <td>True</td>\n    </tr>\n    <tr>\n      <th>1</th>\n      <td>666029285002620928</td>\n      <td>https://pbs.twimg.com/media/CT42GRgUYAA5iDo.jpg</td>\n      <td>1</td>\n      <td>redbone</td>\n      <td>0.506826</td>\n      <td>True</td>\n      <td>miniature_pinscher</td>\n      <td>0.074192</td>\n      <td>True</td>\n      <td>Rhodesian_ridgeback</td>\n      <td>0.072010</td>\n      <td>True</td>\n    </tr>\n    <tr>\n      <th>2</th>\n      <td>666033412701032449</td>\n      <td>https://pbs.twimg.com/media/CT4521TWwAEvMyu.jpg</td>\n      <td>1</td>\n      <td>German_shepherd</td>\n      <td>0.596461</td>\n      <td>True</td>\n      <td>malinois</td>\n      <td>0.138584</td>\n      <td>True</td>\n      <td>bloodhound</td>\n      <td>0.116197</td>\n      <td>True</td>\n    </tr>\n    <tr>\n      <th>3</th>\n      <td>666044226329800704</td>\n      <td>https://pbs.twimg.com/media/CT5Dr8HUEAA-lEu.jpg</td>\n      <td>1</td>\n      <td>Rhodesian_ridgeback</td>\n      <td>0.408143</td>\n      <td>True</td>\n      <td>redbone</td>\n      <td>0.360687</td>\n      <td>True</td>\n      <td>miniature_pinscher</td>\n      <td>0.222752</td>\n      <td>True</td>\n    </tr>\n    <tr>\n      <th>4</th>\n      <td>666049248165822465</td>\n      <td>https://pbs.twimg.com/media/CT5IQmsXIAAKY4A.jpg</td>\n      <td>1</td>\n      <td>miniature_pinscher</td>\n      <td>0.560311</td>\n      <td>True</td>\n      <td>Rottweiler</td>\n      <td>0.243682</td>\n      <td>True</td>\n      <td>Doberman</td>\n      <td>0.154629</td>\n      <td>True</td>\n    </tr>\n  </tbody>\n</table>\n</div>"
     },
     "metadata": {},
     "execution_count": 18
    },
    {
     "output_type": "display_data",
     "data": {
      "text/plain": "<IPython.core.display.Javascript object>",
      "application/javascript": "\n            setTimeout(function() {\n                var nbb_cell_id = 18;\n                var nbb_unformatted_code = \"img_pred_df.head()\";\n                var nbb_formatted_code = \"img_pred_df.head()\";\n                var nbb_cells = Jupyter.notebook.get_cells();\n                for (var i = 0; i < nbb_cells.length; ++i) {\n                    if (nbb_cells[i].input_prompt_number == nbb_cell_id) {\n                        if (nbb_cells[i].get_text() == nbb_unformatted_code) {\n                             nbb_cells[i].set_text(nbb_formatted_code);\n                        }\n                        break;\n                    }\n                }\n            }, 500);\n            "
     },
     "metadata": {}
    }
   ],
   "source": [
    "img_pred_df.head()"
   ]
  },
  {
   "cell_type": "code",
   "execution_count": 19,
   "metadata": {},
   "outputs": [
    {
     "output_type": "execute_result",
     "data": {
      "text/plain": "                tweet_id                                          jpg_url  \\\n2070  891327558926688256  https://pbs.twimg.com/media/DF6hr6BUMAAzZgT.jpg   \n2071  891689557279858688  https://pbs.twimg.com/media/DF_q7IAWsAEuuN8.jpg   \n2072  891815181378084864  https://pbs.twimg.com/media/DGBdLU1WsAANxJ9.jpg   \n2073  892177421306343426  https://pbs.twimg.com/media/DGGmoV4XsAAUL6n.jpg   \n2074  892420643555336193  https://pbs.twimg.com/media/DGKD1-bXoAAIAUK.jpg   \n\n      img_num           p1   p1_conf  p1_dog                  p2   p2_conf  \\\n2070        2       basset  0.555712    True    English_springer  0.225770   \n2071        1  paper_towel  0.170278   False  Labrador_retriever  0.168086   \n2072        1    Chihuahua  0.716012    True            malamute  0.078253   \n2073        1    Chihuahua  0.323581    True            Pekinese  0.090647   \n2074        1       orange  0.097049   False               bagel  0.085851   \n\n      p2_dog                           p3   p3_conf  p3_dog  \n2070    True  German_short-haired_pointer  0.175219    True  \n2071    True                      spatula  0.040836   False  \n2072    True                       kelpie  0.031379    True  \n2073    True                     papillon  0.068957    True  \n2074   False                       banana  0.076110   False  ",
      "text/html": "<div>\n<style scoped>\n    .dataframe tbody tr th:only-of-type {\n        vertical-align: middle;\n    }\n\n    .dataframe tbody tr th {\n        vertical-align: top;\n    }\n\n    .dataframe thead th {\n        text-align: right;\n    }\n</style>\n<table border=\"1\" class=\"dataframe\">\n  <thead>\n    <tr style=\"text-align: right;\">\n      <th></th>\n      <th>tweet_id</th>\n      <th>jpg_url</th>\n      <th>img_num</th>\n      <th>p1</th>\n      <th>p1_conf</th>\n      <th>p1_dog</th>\n      <th>p2</th>\n      <th>p2_conf</th>\n      <th>p2_dog</th>\n      <th>p3</th>\n      <th>p3_conf</th>\n      <th>p3_dog</th>\n    </tr>\n  </thead>\n  <tbody>\n    <tr>\n      <th>2070</th>\n      <td>891327558926688256</td>\n      <td>https://pbs.twimg.com/media/DF6hr6BUMAAzZgT.jpg</td>\n      <td>2</td>\n      <td>basset</td>\n      <td>0.555712</td>\n      <td>True</td>\n      <td>English_springer</td>\n      <td>0.225770</td>\n      <td>True</td>\n      <td>German_short-haired_pointer</td>\n      <td>0.175219</td>\n      <td>True</td>\n    </tr>\n    <tr>\n      <th>2071</th>\n      <td>891689557279858688</td>\n      <td>https://pbs.twimg.com/media/DF_q7IAWsAEuuN8.jpg</td>\n      <td>1</td>\n      <td>paper_towel</td>\n      <td>0.170278</td>\n      <td>False</td>\n      <td>Labrador_retriever</td>\n      <td>0.168086</td>\n      <td>True</td>\n      <td>spatula</td>\n      <td>0.040836</td>\n      <td>False</td>\n    </tr>\n    <tr>\n      <th>2072</th>\n      <td>891815181378084864</td>\n      <td>https://pbs.twimg.com/media/DGBdLU1WsAANxJ9.jpg</td>\n      <td>1</td>\n      <td>Chihuahua</td>\n      <td>0.716012</td>\n      <td>True</td>\n      <td>malamute</td>\n      <td>0.078253</td>\n      <td>True</td>\n      <td>kelpie</td>\n      <td>0.031379</td>\n      <td>True</td>\n    </tr>\n    <tr>\n      <th>2073</th>\n      <td>892177421306343426</td>\n      <td>https://pbs.twimg.com/media/DGGmoV4XsAAUL6n.jpg</td>\n      <td>1</td>\n      <td>Chihuahua</td>\n      <td>0.323581</td>\n      <td>True</td>\n      <td>Pekinese</td>\n      <td>0.090647</td>\n      <td>True</td>\n      <td>papillon</td>\n      <td>0.068957</td>\n      <td>True</td>\n    </tr>\n    <tr>\n      <th>2074</th>\n      <td>892420643555336193</td>\n      <td>https://pbs.twimg.com/media/DGKD1-bXoAAIAUK.jpg</td>\n      <td>1</td>\n      <td>orange</td>\n      <td>0.097049</td>\n      <td>False</td>\n      <td>bagel</td>\n      <td>0.085851</td>\n      <td>False</td>\n      <td>banana</td>\n      <td>0.076110</td>\n      <td>False</td>\n    </tr>\n  </tbody>\n</table>\n</div>"
     },
     "metadata": {},
     "execution_count": 19
    },
    {
     "output_type": "display_data",
     "data": {
      "text/plain": "<IPython.core.display.Javascript object>",
      "application/javascript": "\n            setTimeout(function() {\n                var nbb_cell_id = 19;\n                var nbb_unformatted_code = \"img_pred_df.tail()\";\n                var nbb_formatted_code = \"img_pred_df.tail()\";\n                var nbb_cells = Jupyter.notebook.get_cells();\n                for (var i = 0; i < nbb_cells.length; ++i) {\n                    if (nbb_cells[i].input_prompt_number == nbb_cell_id) {\n                        if (nbb_cells[i].get_text() == nbb_unformatted_code) {\n                             nbb_cells[i].set_text(nbb_formatted_code);\n                        }\n                        break;\n                    }\n                }\n            }, 500);\n            "
     },
     "metadata": {}
    }
   ],
   "source": [
    "img_pred_df.tail()"
   ]
  },
  {
   "cell_type": "code",
   "execution_count": 20,
   "metadata": {
    "scrolled": true
   },
   "outputs": [
    {
     "output_type": "execute_result",
     "data": {
      "text/plain": "                tweet_id                                            jpg_url  \\\n360   672640509974827008    https://pbs.twimg.com/media/CVWy9v-VAAALSoE.jpg   \n1833  836753516572119041    https://pbs.twimg.com/media/C5y-4VwWcAIcaoj.jpg   \n1383  765669560888528897    https://pbs.twimg.com/media/CqA0XcYWAAAzltT.jpg   \n1312  754482103782404096  https://pbs.twimg.com/ext_tw_video_thumb/75448...   \n234   670421925039075328    https://pbs.twimg.com/media/CU3RLqfW4AE0pbA.jpg   \n\n      img_num                        p1   p1_conf  p1_dog             p2  \\\n360         1  Chesapeake_Bay_retriever  0.420155    True       Cardigan   \n1833        1               mortarboard  0.936882   False  academic_gown   \n1383        1                    beagle  0.993333    True   Walker_hound   \n1312        1                       tub  0.596796   False        bathtub   \n234         1                 Chihuahua  0.275793    True           corn   \n\n       p2_conf  p2_dog                  p3   p3_conf  p3_dog  \n360   0.266030    True  Labrador_retriever  0.042514    True  \n1833  0.020815   False          schipperke  0.011564    True  \n1383  0.002902    True              basset  0.002415    True  \n1312  0.381098   False      shower_curtain  0.017629   False  \n234   0.073596   False              bolete  0.054905   False  ",
      "text/html": "<div>\n<style scoped>\n    .dataframe tbody tr th:only-of-type {\n        vertical-align: middle;\n    }\n\n    .dataframe tbody tr th {\n        vertical-align: top;\n    }\n\n    .dataframe thead th {\n        text-align: right;\n    }\n</style>\n<table border=\"1\" class=\"dataframe\">\n  <thead>\n    <tr style=\"text-align: right;\">\n      <th></th>\n      <th>tweet_id</th>\n      <th>jpg_url</th>\n      <th>img_num</th>\n      <th>p1</th>\n      <th>p1_conf</th>\n      <th>p1_dog</th>\n      <th>p2</th>\n      <th>p2_conf</th>\n      <th>p2_dog</th>\n      <th>p3</th>\n      <th>p3_conf</th>\n      <th>p3_dog</th>\n    </tr>\n  </thead>\n  <tbody>\n    <tr>\n      <th>360</th>\n      <td>672640509974827008</td>\n      <td>https://pbs.twimg.com/media/CVWy9v-VAAALSoE.jpg</td>\n      <td>1</td>\n      <td>Chesapeake_Bay_retriever</td>\n      <td>0.420155</td>\n      <td>True</td>\n      <td>Cardigan</td>\n      <td>0.266030</td>\n      <td>True</td>\n      <td>Labrador_retriever</td>\n      <td>0.042514</td>\n      <td>True</td>\n    </tr>\n    <tr>\n      <th>1833</th>\n      <td>836753516572119041</td>\n      <td>https://pbs.twimg.com/media/C5y-4VwWcAIcaoj.jpg</td>\n      <td>1</td>\n      <td>mortarboard</td>\n      <td>0.936882</td>\n      <td>False</td>\n      <td>academic_gown</td>\n      <td>0.020815</td>\n      <td>False</td>\n      <td>schipperke</td>\n      <td>0.011564</td>\n      <td>True</td>\n    </tr>\n    <tr>\n      <th>1383</th>\n      <td>765669560888528897</td>\n      <td>https://pbs.twimg.com/media/CqA0XcYWAAAzltT.jpg</td>\n      <td>1</td>\n      <td>beagle</td>\n      <td>0.993333</td>\n      <td>True</td>\n      <td>Walker_hound</td>\n      <td>0.002902</td>\n      <td>True</td>\n      <td>basset</td>\n      <td>0.002415</td>\n      <td>True</td>\n    </tr>\n    <tr>\n      <th>1312</th>\n      <td>754482103782404096</td>\n      <td>https://pbs.twimg.com/ext_tw_video_thumb/75448...</td>\n      <td>1</td>\n      <td>tub</td>\n      <td>0.596796</td>\n      <td>False</td>\n      <td>bathtub</td>\n      <td>0.381098</td>\n      <td>False</td>\n      <td>shower_curtain</td>\n      <td>0.017629</td>\n      <td>False</td>\n    </tr>\n    <tr>\n      <th>234</th>\n      <td>670421925039075328</td>\n      <td>https://pbs.twimg.com/media/CU3RLqfW4AE0pbA.jpg</td>\n      <td>1</td>\n      <td>Chihuahua</td>\n      <td>0.275793</td>\n      <td>True</td>\n      <td>corn</td>\n      <td>0.073596</td>\n      <td>False</td>\n      <td>bolete</td>\n      <td>0.054905</td>\n      <td>False</td>\n    </tr>\n  </tbody>\n</table>\n</div>"
     },
     "metadata": {},
     "execution_count": 20
    },
    {
     "output_type": "display_data",
     "data": {
      "text/plain": "<IPython.core.display.Javascript object>",
      "application/javascript": "\n            setTimeout(function() {\n                var nbb_cell_id = 20;\n                var nbb_unformatted_code = \"img_pred_df.sample(5)\";\n                var nbb_formatted_code = \"img_pred_df.sample(5)\";\n                var nbb_cells = Jupyter.notebook.get_cells();\n                for (var i = 0; i < nbb_cells.length; ++i) {\n                    if (nbb_cells[i].input_prompt_number == nbb_cell_id) {\n                        if (nbb_cells[i].get_text() == nbb_unformatted_code) {\n                             nbb_cells[i].set_text(nbb_formatted_code);\n                        }\n                        break;\n                    }\n                }\n            }, 500);\n            "
     },
     "metadata": {}
    }
   ],
   "source": [
    "img_pred_df.sample(5)"
   ]
  },
  {
   "cell_type": "markdown",
   "metadata": {},
   "source": [
    "### Programmatic assessment"
   ]
  },
  {
   "cell_type": "code",
   "execution_count": 21,
   "metadata": {
    "tags": []
   },
   "outputs": [
    {
     "output_type": "stream",
     "name": "stdout",
     "text": "<class 'pandas.core.frame.DataFrame'>\nRangeIndex: 2075 entries, 0 to 2074\nData columns (total 12 columns):\n #   Column    Non-Null Count  Dtype  \n---  ------    --------------  -----  \n 0   tweet_id  2075 non-null   int64  \n 1   jpg_url   2075 non-null   object \n 2   img_num   2075 non-null   int64  \n 3   p1        2075 non-null   object \n 4   p1_conf   2075 non-null   float64\n 5   p1_dog    2075 non-null   bool   \n 6   p2        2075 non-null   object \n 7   p2_conf   2075 non-null   float64\n 8   p2_dog    2075 non-null   bool   \n 9   p3        2075 non-null   object \n 10  p3_conf   2075 non-null   float64\n 11  p3_dog    2075 non-null   bool   \ndtypes: bool(3), float64(3), int64(2), object(4)\nmemory usage: 152.1+ KB\n"
    },
    {
     "output_type": "display_data",
     "data": {
      "text/plain": "<IPython.core.display.Javascript object>",
      "application/javascript": "\n            setTimeout(function() {\n                var nbb_cell_id = 21;\n                var nbb_unformatted_code = \"img_pred_df.info()\";\n                var nbb_formatted_code = \"img_pred_df.info()\";\n                var nbb_cells = Jupyter.notebook.get_cells();\n                for (var i = 0; i < nbb_cells.length; ++i) {\n                    if (nbb_cells[i].input_prompt_number == nbb_cell_id) {\n                        if (nbb_cells[i].get_text() == nbb_unformatted_code) {\n                             nbb_cells[i].set_text(nbb_formatted_code);\n                        }\n                        break;\n                    }\n                }\n            }, 500);\n            "
     },
     "metadata": {}
    }
   ],
   "source": [
    "img_pred_df.info()"
   ]
  },
  {
   "cell_type": "code",
   "execution_count": 22,
   "metadata": {},
   "outputs": [
    {
     "output_type": "execute_result",
     "data": {
      "text/plain": "           tweet_id      img_num      p1_conf       p2_conf       p3_conf\ncount  2.075000e+03  2075.000000  2075.000000  2.075000e+03  2.075000e+03\nmean   7.384514e+17     1.203855     0.594548  1.345886e-01  6.032417e-02\nstd    6.785203e+16     0.561875     0.271174  1.006657e-01  5.090593e-02\nmin    6.660209e+17     1.000000     0.044333  1.011300e-08  1.740170e-10\n25%    6.764835e+17     1.000000     0.364412  5.388625e-02  1.622240e-02\n50%    7.119988e+17     1.000000     0.588230  1.181810e-01  4.944380e-02\n75%    7.932034e+17     1.000000     0.843855  1.955655e-01  9.180755e-02\nmax    8.924206e+17     4.000000     1.000000  4.880140e-01  2.734190e-01",
      "text/html": "<div>\n<style scoped>\n    .dataframe tbody tr th:only-of-type {\n        vertical-align: middle;\n    }\n\n    .dataframe tbody tr th {\n        vertical-align: top;\n    }\n\n    .dataframe thead th {\n        text-align: right;\n    }\n</style>\n<table border=\"1\" class=\"dataframe\">\n  <thead>\n    <tr style=\"text-align: right;\">\n      <th></th>\n      <th>tweet_id</th>\n      <th>img_num</th>\n      <th>p1_conf</th>\n      <th>p2_conf</th>\n      <th>p3_conf</th>\n    </tr>\n  </thead>\n  <tbody>\n    <tr>\n      <th>count</th>\n      <td>2.075000e+03</td>\n      <td>2075.000000</td>\n      <td>2075.000000</td>\n      <td>2.075000e+03</td>\n      <td>2.075000e+03</td>\n    </tr>\n    <tr>\n      <th>mean</th>\n      <td>7.384514e+17</td>\n      <td>1.203855</td>\n      <td>0.594548</td>\n      <td>1.345886e-01</td>\n      <td>6.032417e-02</td>\n    </tr>\n    <tr>\n      <th>std</th>\n      <td>6.785203e+16</td>\n      <td>0.561875</td>\n      <td>0.271174</td>\n      <td>1.006657e-01</td>\n      <td>5.090593e-02</td>\n    </tr>\n    <tr>\n      <th>min</th>\n      <td>6.660209e+17</td>\n      <td>1.000000</td>\n      <td>0.044333</td>\n      <td>1.011300e-08</td>\n      <td>1.740170e-10</td>\n    </tr>\n    <tr>\n      <th>25%</th>\n      <td>6.764835e+17</td>\n      <td>1.000000</td>\n      <td>0.364412</td>\n      <td>5.388625e-02</td>\n      <td>1.622240e-02</td>\n    </tr>\n    <tr>\n      <th>50%</th>\n      <td>7.119988e+17</td>\n      <td>1.000000</td>\n      <td>0.588230</td>\n      <td>1.181810e-01</td>\n      <td>4.944380e-02</td>\n    </tr>\n    <tr>\n      <th>75%</th>\n      <td>7.932034e+17</td>\n      <td>1.000000</td>\n      <td>0.843855</td>\n      <td>1.955655e-01</td>\n      <td>9.180755e-02</td>\n    </tr>\n    <tr>\n      <th>max</th>\n      <td>8.924206e+17</td>\n      <td>4.000000</td>\n      <td>1.000000</td>\n      <td>4.880140e-01</td>\n      <td>2.734190e-01</td>\n    </tr>\n  </tbody>\n</table>\n</div>"
     },
     "metadata": {},
     "execution_count": 22
    },
    {
     "output_type": "display_data",
     "data": {
      "text/plain": "<IPython.core.display.Javascript object>",
      "application/javascript": "\n            setTimeout(function() {\n                var nbb_cell_id = 22;\n                var nbb_unformatted_code = \"img_pred_df.describe()\";\n                var nbb_formatted_code = \"img_pred_df.describe()\";\n                var nbb_cells = Jupyter.notebook.get_cells();\n                for (var i = 0; i < nbb_cells.length; ++i) {\n                    if (nbb_cells[i].input_prompt_number == nbb_cell_id) {\n                        if (nbb_cells[i].get_text() == nbb_unformatted_code) {\n                             nbb_cells[i].set_text(nbb_formatted_code);\n                        }\n                        break;\n                    }\n                }\n            }, 500);\n            "
     },
     "metadata": {}
    }
   ],
   "source": [
    "img_pred_df.describe()"
   ]
  },
  {
   "cell_type": "markdown",
   "metadata": {},
   "source": [
    "### Findings\n",
    "\n",
    "This table looks much cleaner which is something I anticipated, it was created by a data analyst after all. \n",
    "\n",
    "However, ther are minor inconveniences which must be mentioned.\n",
    "\n",
    "- Missing records compared to tweet_archive_df, this table has 2075 entry while the former one has 2356 entries.\n",
    "- Entries of images that do not have a dog in them i.e. `p1_dog` = `p2_dog` = `p3_dog` = False"
   ]
  }
 ],
 "metadata": {
  "kernelspec": {
   "name": "Python 3.7.9 64-bit ('dogs': conda)",
   "display_name": "Python 3.7.9 64-bit ('dogs': conda)",
   "metadata": {
    "interpreter": {
     "hash": "186f3cca496a182c7945d25dc85d3da27c3bb38349109636a700fe2e252e2505"
    }
   }
  },
  "language_info": {
   "codemirror_mode": {
    "name": "ipython",
    "version": 3
   },
   "file_extension": ".py",
   "mimetype": "text/x-python",
   "name": "python",
   "nbconvert_exporter": "python",
   "pygments_lexer": "ipython3",
   "version": "3.7.9-final"
  }
 },
 "nbformat": 4,
 "nbformat_minor": 2
}